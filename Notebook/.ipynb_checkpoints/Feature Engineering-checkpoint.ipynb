{
 "cells": [
  {
   "cell_type": "markdown",
   "id": "3359a670",
   "metadata": {},
   "source": [
    "# Import_Libraries"
   ]
  },
  {
   "cell_type": "code",
   "execution_count": 1,
   "id": "c29d0b56",
   "metadata": {},
   "outputs": [],
   "source": [
    "import pandas as pd\n",
    "import numpy as np\n",
    "import seaborn as sns\n",
    "import matplotlib.pyplot as plt\n",
    "import warnings\n",
    "warnings.filterwarnings(\"ignore\")"
   ]
  },
  {
   "cell_type": "markdown",
   "id": "8fa90016",
   "metadata": {},
   "source": [
    "# Loading The Data:"
   ]
  },
  {
   "cell_type": "code",
   "execution_count": 3,
   "id": "bcded91f",
   "metadata": {},
   "outputs": [],
   "source": [
    "df = pd.read_csv(r\"C:\\Users\\zubai\\Desktop\\Data_Science_Jupyter\\Project_1_digi_crome_capstone\\Data\\cleaned_Property_data.csv\")"
   ]
  },
  {
   "cell_type": "code",
   "execution_count": 5,
   "id": "fb11b15b",
   "metadata": {},
   "outputs": [
    {
     "data": {
      "text/html": [
       "<div>\n",
       "<style scoped>\n",
       "    .dataframe tbody tr th:only-of-type {\n",
       "        vertical-align: middle;\n",
       "    }\n",
       "\n",
       "    .dataframe tbody tr th {\n",
       "        vertical-align: top;\n",
       "    }\n",
       "\n",
       "    .dataframe thead th {\n",
       "        text-align: right;\n",
       "    }\n",
       "</style>\n",
       "<table border=\"1\" class=\"dataframe\">\n",
       "  <thead>\n",
       "    <tr style=\"text-align: right;\">\n",
       "      <th></th>\n",
       "      <th>PropertyID</th>\n",
       "      <th>PropertyClass</th>\n",
       "      <th>PropertyFrontage</th>\n",
       "      <th>PropertySize</th>\n",
       "      <th>OverallQual</th>\n",
       "      <th>OverallCond</th>\n",
       "      <th>YearBuilt</th>\n",
       "      <th>YearRemodAdd</th>\n",
       "      <th>ExteriorCladdingArea</th>\n",
       "      <th>BsmntFinSty1</th>\n",
       "      <th>...</th>\n",
       "      <th>SaleType_ConLI</th>\n",
       "      <th>SaleType_ConLw</th>\n",
       "      <th>SaleType_New</th>\n",
       "      <th>SaleType_Oth</th>\n",
       "      <th>SaleType_WD</th>\n",
       "      <th>SaleCondn_AdjLand</th>\n",
       "      <th>SaleCondn_Alloca</th>\n",
       "      <th>SaleCondn_Family</th>\n",
       "      <th>SaleCondn_Normal</th>\n",
       "      <th>SaleCondn_Partial</th>\n",
       "    </tr>\n",
       "  </thead>\n",
       "  <tbody>\n",
       "    <tr>\n",
       "      <th>0</th>\n",
       "      <td>1</td>\n",
       "      <td>60</td>\n",
       "      <td>65</td>\n",
       "      <td>8450</td>\n",
       "      <td>7</td>\n",
       "      <td>5</td>\n",
       "      <td>2003</td>\n",
       "      <td>2003</td>\n",
       "      <td>196</td>\n",
       "      <td>706</td>\n",
       "      <td>...</td>\n",
       "      <td>0</td>\n",
       "      <td>0</td>\n",
       "      <td>0</td>\n",
       "      <td>0</td>\n",
       "      <td>1</td>\n",
       "      <td>0</td>\n",
       "      <td>0</td>\n",
       "      <td>0</td>\n",
       "      <td>1</td>\n",
       "      <td>0</td>\n",
       "    </tr>\n",
       "    <tr>\n",
       "      <th>1</th>\n",
       "      <td>2</td>\n",
       "      <td>20</td>\n",
       "      <td>80</td>\n",
       "      <td>9600</td>\n",
       "      <td>6</td>\n",
       "      <td>8</td>\n",
       "      <td>1976</td>\n",
       "      <td>1976</td>\n",
       "      <td>0</td>\n",
       "      <td>978</td>\n",
       "      <td>...</td>\n",
       "      <td>0</td>\n",
       "      <td>0</td>\n",
       "      <td>0</td>\n",
       "      <td>0</td>\n",
       "      <td>1</td>\n",
       "      <td>0</td>\n",
       "      <td>0</td>\n",
       "      <td>0</td>\n",
       "      <td>1</td>\n",
       "      <td>0</td>\n",
       "    </tr>\n",
       "    <tr>\n",
       "      <th>2</th>\n",
       "      <td>3</td>\n",
       "      <td>60</td>\n",
       "      <td>68</td>\n",
       "      <td>11250</td>\n",
       "      <td>7</td>\n",
       "      <td>5</td>\n",
       "      <td>2001</td>\n",
       "      <td>2002</td>\n",
       "      <td>162</td>\n",
       "      <td>486</td>\n",
       "      <td>...</td>\n",
       "      <td>0</td>\n",
       "      <td>0</td>\n",
       "      <td>0</td>\n",
       "      <td>0</td>\n",
       "      <td>1</td>\n",
       "      <td>0</td>\n",
       "      <td>0</td>\n",
       "      <td>0</td>\n",
       "      <td>1</td>\n",
       "      <td>0</td>\n",
       "    </tr>\n",
       "    <tr>\n",
       "      <th>3</th>\n",
       "      <td>4</td>\n",
       "      <td>70</td>\n",
       "      <td>60</td>\n",
       "      <td>9550</td>\n",
       "      <td>7</td>\n",
       "      <td>5</td>\n",
       "      <td>1915</td>\n",
       "      <td>1970</td>\n",
       "      <td>0</td>\n",
       "      <td>216</td>\n",
       "      <td>...</td>\n",
       "      <td>0</td>\n",
       "      <td>0</td>\n",
       "      <td>0</td>\n",
       "      <td>0</td>\n",
       "      <td>1</td>\n",
       "      <td>0</td>\n",
       "      <td>0</td>\n",
       "      <td>0</td>\n",
       "      <td>0</td>\n",
       "      <td>0</td>\n",
       "    </tr>\n",
       "    <tr>\n",
       "      <th>4</th>\n",
       "      <td>5</td>\n",
       "      <td>60</td>\n",
       "      <td>84</td>\n",
       "      <td>14260</td>\n",
       "      <td>8</td>\n",
       "      <td>5</td>\n",
       "      <td>2000</td>\n",
       "      <td>2000</td>\n",
       "      <td>350</td>\n",
       "      <td>655</td>\n",
       "      <td>...</td>\n",
       "      <td>0</td>\n",
       "      <td>0</td>\n",
       "      <td>0</td>\n",
       "      <td>0</td>\n",
       "      <td>1</td>\n",
       "      <td>0</td>\n",
       "      <td>0</td>\n",
       "      <td>0</td>\n",
       "      <td>1</td>\n",
       "      <td>0</td>\n",
       "    </tr>\n",
       "  </tbody>\n",
       "</table>\n",
       "<p>5 rows × 262 columns</p>\n",
       "</div>"
      ],
      "text/plain": [
       "   PropertyID  PropertyClass  PropertyFrontage  PropertySize  OverallQual  \\\n",
       "0           1             60                65          8450            7   \n",
       "1           2             20                80          9600            6   \n",
       "2           3             60                68         11250            7   \n",
       "3           4             70                60          9550            7   \n",
       "4           5             60                84         14260            8   \n",
       "\n",
       "   OverallCond  YearBuilt  YearRemodAdd  ExteriorCladdingArea  BsmntFinSty1  \\\n",
       "0            5       2003          2003                   196           706   \n",
       "1            8       1976          1976                     0           978   \n",
       "2            5       2001          2002                   162           486   \n",
       "3            5       1915          1970                     0           216   \n",
       "4            5       2000          2000                   350           655   \n",
       "\n",
       "   ...  SaleType_ConLI  SaleType_ConLw  SaleType_New  SaleType_Oth  \\\n",
       "0  ...               0               0             0             0   \n",
       "1  ...               0               0             0             0   \n",
       "2  ...               0               0             0             0   \n",
       "3  ...               0               0             0             0   \n",
       "4  ...               0               0             0             0   \n",
       "\n",
       "   SaleType_WD  SaleCondn_AdjLand  SaleCondn_Alloca  SaleCondn_Family  \\\n",
       "0            1                  0                 0                 0   \n",
       "1            1                  0                 0                 0   \n",
       "2            1                  0                 0                 0   \n",
       "3            1                  0                 0                 0   \n",
       "4            1                  0                 0                 0   \n",
       "\n",
       "   SaleCondn_Normal  SaleCondn_Partial  \n",
       "0                 1                  0  \n",
       "1                 1                  0  \n",
       "2                 1                  0  \n",
       "3                 0                  0  \n",
       "4                 1                  0  \n",
       "\n",
       "[5 rows x 262 columns]"
      ]
     },
     "execution_count": 5,
     "metadata": {},
     "output_type": "execute_result"
    }
   ],
   "source": [
    "df.head(5)"
   ]
  },
  {
   "cell_type": "code",
   "execution_count": 7,
   "id": "c3833eb5",
   "metadata": {},
   "outputs": [
    {
     "data": {
      "text/plain": [
       "(1430, 262)"
      ]
     },
     "execution_count": 7,
     "metadata": {},
     "output_type": "execute_result"
    }
   ],
   "source": [
    "df.shape"
   ]
  },
  {
   "cell_type": "markdown",
   "id": "7311d7bb",
   "metadata": {},
   "source": [
    "# Calculate age at sale"
   ]
  },
  {
   "cell_type": "code",
   "execution_count": 10,
   "id": "4c4d98f0",
   "metadata": {},
   "outputs": [],
   "source": [
    "df['AgeAtSale'] = df['SaleYr'] - df['YearBuilt']"
   ]
  },
  {
   "cell_type": "code",
   "execution_count": 12,
   "id": "6a2ba944",
   "metadata": {},
   "outputs": [],
   "source": [
    "df['YearsSinceRemodel'] = df['SaleYr'] - df['YearRemodAdd']"
   ]
  },
  {
   "cell_type": "markdown",
   "id": "2d20a832",
   "metadata": {},
   "source": [
    "# Display the first few rows to verify the new columns"
   ]
  },
  {
   "cell_type": "code",
   "execution_count": 15,
   "id": "697ca9f2",
   "metadata": {},
   "outputs": [
    {
     "name": "stdout",
     "output_type": "stream",
     "text": [
      "   AgeAtSale  YearsSinceRemodel\n",
      "0          5                  5\n",
      "1         31                 31\n",
      "2          7                  6\n",
      "3         91                 36\n",
      "4          8                  8\n"
     ]
    }
   ],
   "source": [
    "print(df[['AgeAtSale', 'YearsSinceRemodel']].head())"
   ]
  },
  {
   "cell_type": "markdown",
   "id": "29d69590",
   "metadata": {},
   "source": [
    "# Calculate total square foot"
   ]
  },
  {
   "cell_type": "code",
   "execution_count": 18,
   "id": "c39d517a",
   "metadata": {},
   "outputs": [],
   "source": [
    "df['TotalSqFootage'] = df['1stFlrSF'] + df['2ndFlrSF'] + df['BsmtFinSF2'] + df['BsmtUnfSF']"
   ]
  },
  {
   "cell_type": "code",
   "execution_count": 20,
   "id": "d2ecaa0e",
   "metadata": {},
   "outputs": [
    {
     "name": "stdout",
     "output_type": "stream",
     "text": [
      "   TotalSqFootage\n",
      "0            1860\n",
      "1            1546\n",
      "2            2220\n",
      "3            2257\n",
      "4            2688\n"
     ]
    }
   ],
   "source": [
    "print(df[['TotalSqFootage']].head())"
   ]
  },
  {
   "cell_type": "markdown",
   "id": "e7f54e21",
   "metadata": {},
   "source": [
    "# Calculate Total Bath rooms"
   ]
  },
  {
   "cell_type": "code",
   "execution_count": 23,
   "id": "5e338d9f",
   "metadata": {},
   "outputs": [],
   "source": [
    "df['TotalBathrooms'] = df['BsmtFullBath'] + df['BsmtHalfBath']*0.5 + df['Bath1'] + df['Bath2']*0.5"
   ]
  },
  {
   "cell_type": "code",
   "execution_count": 25,
   "id": "fc06aaad",
   "metadata": {},
   "outputs": [
    {
     "name": "stdout",
     "output_type": "stream",
     "text": [
      "   TotalBathrooms\n",
      "0             3.5\n",
      "1             2.5\n",
      "2             3.5\n",
      "3             2.0\n",
      "4             3.5\n"
     ]
    }
   ],
   "source": [
    "print(df[['TotalBathrooms']].head())"
   ]
  },
  {
   "cell_type": "markdown",
   "id": "cddf30e5",
   "metadata": {},
   "source": [
    "# Calculate Quality Score:"
   ]
  },
  {
   "cell_type": "code",
   "execution_count": 28,
   "id": "ec994999",
   "metadata": {},
   "outputs": [],
   "source": [
    "df['QualityScore'] = df['OverallQual'] * df['OverallCond']"
   ]
  },
  {
   "cell_type": "code",
   "execution_count": 30,
   "id": "52475432",
   "metadata": {},
   "outputs": [
    {
     "name": "stdout",
     "output_type": "stream",
     "text": [
      "   QualityScore\n",
      "0            35\n",
      "1            48\n",
      "2            35\n",
      "3            35\n",
      "4            40\n"
     ]
    }
   ],
   "source": [
    "print(df[['QualityScore']].head())"
   ]
  },
  {
   "cell_type": "markdown",
   "id": "eba94376",
   "metadata": {},
   "source": [
    "# Calculate Interaction Features:"
   ]
  },
  {
   "cell_type": "code",
   "execution_count": 33,
   "id": "f6f81252",
   "metadata": {},
   "outputs": [],
   "source": [
    "df['GrLivArea_OverallQual'] = df['GrLivArea'] * df['OverallQual']"
   ]
  },
  {
   "cell_type": "code",
   "execution_count": 35,
   "id": "1b8d8d7a",
   "metadata": {},
   "outputs": [
    {
     "name": "stdout",
     "output_type": "stream",
     "text": [
      "   GrLivArea_OverallQual\n",
      "0                  11970\n",
      "1                   7572\n",
      "2                  12502\n",
      "3                  12019\n",
      "4                  17584\n"
     ]
    }
   ],
   "source": [
    "print(df[['GrLivArea_OverallQual']].head())"
   ]
  },
  {
   "cell_type": "code",
   "execution_count": 37,
   "id": "3dc16076",
   "metadata": {},
   "outputs": [
    {
     "data": {
      "text/plain": [
       "(1430, 268)"
      ]
     },
     "execution_count": 37,
     "metadata": {},
     "output_type": "execute_result"
    }
   ],
   "source": [
    "df.shape"
   ]
  },
  {
   "cell_type": "code",
   "execution_count": 39,
   "id": "b3ae3081",
   "metadata": {},
   "outputs": [
    {
     "name": "stdout",
     "output_type": "stream",
     "text": [
      "<class 'pandas.core.frame.DataFrame'>\n",
      "RangeIndex: 1430 entries, 0 to 1429\n",
      "Columns: 268 entries, PropertyID to GrLivArea_OverallQual\n",
      "dtypes: float64(1), int64(267)\n",
      "memory usage: 2.9 MB\n"
     ]
    }
   ],
   "source": [
    "df.info()"
   ]
  },
  {
   "cell_type": "code",
   "execution_count": 43,
   "id": "318e1d00",
   "metadata": {},
   "outputs": [],
   "source": [
    "df.to_csv(r\"C:\\Users\\zubai\\Desktop\\Data_Science_Jupyter\\Project_1_digi_crome_capstone\\Data\\features_Property_data.csv\",index=False)"
   ]
  }
 ],
 "metadata": {
  "kernelspec": {
   "display_name": "Python 3 (ipykernel)",
   "language": "python",
   "name": "python3"
  },
  "language_info": {
   "codemirror_mode": {
    "name": "ipython",
    "version": 3
   },
   "file_extension": ".py",
   "mimetype": "text/x-python",
   "name": "python",
   "nbconvert_exporter": "python",
   "pygments_lexer": "ipython3",
   "version": "3.12.4"
  }
 },
 "nbformat": 4,
 "nbformat_minor": 5
}
