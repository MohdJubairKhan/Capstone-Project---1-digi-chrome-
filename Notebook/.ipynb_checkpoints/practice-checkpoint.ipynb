{
 "cells": [
  {
   "cell_type": "markdown",
   "id": "a8e81795",
   "metadata": {},
   "source": [
    "# Import_Libraries"
   ]
  },
  {
   "cell_type": "code",
   "execution_count": 1,
   "id": "067f214a",
   "metadata": {},
   "outputs": [],
   "source": [
    "import pandas as pd\n",
    "import numpy as np\n",
    "import seaborn as sns\n",
    "import matplotlib.pyplot as plt\n",
    "import warnings\n",
    "warnings.filterwarnings(\"ignore\")"
   ]
  },
  {
   "cell_type": "markdown",
   "id": "ee919cf4",
   "metadata": {},
   "source": [
    "# 1 - Loading The Data:"
   ]
  },
  {
   "cell_type": "code",
   "execution_count": 2,
   "id": "a4dd04cc",
   "metadata": {},
   "outputs": [],
   "source": [
    "df = pd.read_csv(\"Property_data.csv\")"
   ]
  },
  {
   "cell_type": "markdown",
   "id": "936d9a4c",
   "metadata": {},
   "source": [
    "# Data_Exploration"
   ]
  },
  {
   "cell_type": "code",
   "execution_count": 3,
   "id": "3bbbdb67",
   "metadata": {},
   "outputs": [
    {
     "data": {
      "text/html": [
       "<div>\n",
       "<style scoped>\n",
       "    .dataframe tbody tr th:only-of-type {\n",
       "        vertical-align: middle;\n",
       "    }\n",
       "\n",
       "    .dataframe tbody tr th {\n",
       "        vertical-align: top;\n",
       "    }\n",
       "\n",
       "    .dataframe thead th {\n",
       "        text-align: right;\n",
       "    }\n",
       "</style>\n",
       "<table border=\"1\" class=\"dataframe\">\n",
       "  <thead>\n",
       "    <tr style=\"text-align: right;\">\n",
       "      <th></th>\n",
       "      <th>PropertyID</th>\n",
       "      <th>PropertyClass</th>\n",
       "      <th>PropertyZone</th>\n",
       "      <th>PropertyFrontage</th>\n",
       "      <th>PropertySize</th>\n",
       "      <th>Street</th>\n",
       "      <th>Alley</th>\n",
       "      <th>PropertyShape</th>\n",
       "      <th>Elevation</th>\n",
       "      <th>Amenities</th>\n",
       "      <th>...</th>\n",
       "      <th>PoolArea</th>\n",
       "      <th>PoolQC</th>\n",
       "      <th>BoundaryFeatures</th>\n",
       "      <th>AddFeatures</th>\n",
       "      <th>AddVal</th>\n",
       "      <th>SaleMon</th>\n",
       "      <th>SaleYr</th>\n",
       "      <th>SaleType</th>\n",
       "      <th>SaleCondn</th>\n",
       "      <th>PropPrice</th>\n",
       "    </tr>\n",
       "  </thead>\n",
       "  <tbody>\n",
       "    <tr>\n",
       "      <th>0</th>\n",
       "      <td>1</td>\n",
       "      <td>60</td>\n",
       "      <td>RL</td>\n",
       "      <td>65.0</td>\n",
       "      <td>8450</td>\n",
       "      <td>Pave</td>\n",
       "      <td>NaN</td>\n",
       "      <td>Reg</td>\n",
       "      <td>Lvl</td>\n",
       "      <td>AllPub</td>\n",
       "      <td>...</td>\n",
       "      <td>0</td>\n",
       "      <td>NaN</td>\n",
       "      <td>NaN</td>\n",
       "      <td>NaN</td>\n",
       "      <td>0</td>\n",
       "      <td>2</td>\n",
       "      <td>2008</td>\n",
       "      <td>WD</td>\n",
       "      <td>Normal</td>\n",
       "      <td>208500</td>\n",
       "    </tr>\n",
       "    <tr>\n",
       "      <th>1</th>\n",
       "      <td>2</td>\n",
       "      <td>20</td>\n",
       "      <td>RL</td>\n",
       "      <td>80.0</td>\n",
       "      <td>9600</td>\n",
       "      <td>Pave</td>\n",
       "      <td>NaN</td>\n",
       "      <td>Reg</td>\n",
       "      <td>Lvl</td>\n",
       "      <td>AllPub</td>\n",
       "      <td>...</td>\n",
       "      <td>0</td>\n",
       "      <td>NaN</td>\n",
       "      <td>NaN</td>\n",
       "      <td>NaN</td>\n",
       "      <td>0</td>\n",
       "      <td>5</td>\n",
       "      <td>2007</td>\n",
       "      <td>WD</td>\n",
       "      <td>Normal</td>\n",
       "      <td>181500</td>\n",
       "    </tr>\n",
       "    <tr>\n",
       "      <th>2</th>\n",
       "      <td>3</td>\n",
       "      <td>60</td>\n",
       "      <td>RL</td>\n",
       "      <td>68.0</td>\n",
       "      <td>11250</td>\n",
       "      <td>Pave</td>\n",
       "      <td>NaN</td>\n",
       "      <td>IR1</td>\n",
       "      <td>Lvl</td>\n",
       "      <td>AllPub</td>\n",
       "      <td>...</td>\n",
       "      <td>0</td>\n",
       "      <td>NaN</td>\n",
       "      <td>NaN</td>\n",
       "      <td>NaN</td>\n",
       "      <td>0</td>\n",
       "      <td>9</td>\n",
       "      <td>2008</td>\n",
       "      <td>WD</td>\n",
       "      <td>Normal</td>\n",
       "      <td>223500</td>\n",
       "    </tr>\n",
       "    <tr>\n",
       "      <th>3</th>\n",
       "      <td>4</td>\n",
       "      <td>70</td>\n",
       "      <td>RL</td>\n",
       "      <td>60.0</td>\n",
       "      <td>9550</td>\n",
       "      <td>Pave</td>\n",
       "      <td>NaN</td>\n",
       "      <td>IR1</td>\n",
       "      <td>Lvl</td>\n",
       "      <td>AllPub</td>\n",
       "      <td>...</td>\n",
       "      <td>0</td>\n",
       "      <td>NaN</td>\n",
       "      <td>NaN</td>\n",
       "      <td>NaN</td>\n",
       "      <td>0</td>\n",
       "      <td>2</td>\n",
       "      <td>2006</td>\n",
       "      <td>WD</td>\n",
       "      <td>Abnorml</td>\n",
       "      <td>140000</td>\n",
       "    </tr>\n",
       "    <tr>\n",
       "      <th>4</th>\n",
       "      <td>5</td>\n",
       "      <td>60</td>\n",
       "      <td>RL</td>\n",
       "      <td>84.0</td>\n",
       "      <td>14260</td>\n",
       "      <td>Pave</td>\n",
       "      <td>NaN</td>\n",
       "      <td>IR1</td>\n",
       "      <td>Lvl</td>\n",
       "      <td>AllPub</td>\n",
       "      <td>...</td>\n",
       "      <td>0</td>\n",
       "      <td>NaN</td>\n",
       "      <td>NaN</td>\n",
       "      <td>NaN</td>\n",
       "      <td>0</td>\n",
       "      <td>12</td>\n",
       "      <td>2008</td>\n",
       "      <td>WD</td>\n",
       "      <td>Normal</td>\n",
       "      <td>250000</td>\n",
       "    </tr>\n",
       "  </tbody>\n",
       "</table>\n",
       "<p>5 rows × 81 columns</p>\n",
       "</div>"
      ],
      "text/plain": [
       "   PropertyID  PropertyClass PropertyZone  PropertyFrontage  PropertySize  \\\n",
       "0           1             60           RL              65.0          8450   \n",
       "1           2             20           RL              80.0          9600   \n",
       "2           3             60           RL              68.0         11250   \n",
       "3           4             70           RL              60.0          9550   \n",
       "4           5             60           RL              84.0         14260   \n",
       "\n",
       "  Street Alley PropertyShape Elevation Amenities  ... PoolArea PoolQC  \\\n",
       "0   Pave   NaN           Reg       Lvl    AllPub  ...        0    NaN   \n",
       "1   Pave   NaN           Reg       Lvl    AllPub  ...        0    NaN   \n",
       "2   Pave   NaN           IR1       Lvl    AllPub  ...        0    NaN   \n",
       "3   Pave   NaN           IR1       Lvl    AllPub  ...        0    NaN   \n",
       "4   Pave   NaN           IR1       Lvl    AllPub  ...        0    NaN   \n",
       "\n",
       "  BoundaryFeatures AddFeatures AddVal SaleMon SaleYr  SaleType  SaleCondn  \\\n",
       "0              NaN         NaN      0       2   2008        WD     Normal   \n",
       "1              NaN         NaN      0       5   2007        WD     Normal   \n",
       "2              NaN         NaN      0       9   2008        WD     Normal   \n",
       "3              NaN         NaN      0       2   2006        WD    Abnorml   \n",
       "4              NaN         NaN      0      12   2008        WD     Normal   \n",
       "\n",
       "   PropPrice  \n",
       "0     208500  \n",
       "1     181500  \n",
       "2     223500  \n",
       "3     140000  \n",
       "4     250000  \n",
       "\n",
       "[5 rows x 81 columns]"
      ]
     },
     "execution_count": 3,
     "metadata": {},
     "output_type": "execute_result"
    }
   ],
   "source": [
    "df.head(5)"
   ]
  },
  {
   "cell_type": "code",
   "execution_count": 4,
   "id": "ca5d4fb5",
   "metadata": {},
   "outputs": [
    {
     "data": {
      "text/html": [
       "<div>\n",
       "<style scoped>\n",
       "    .dataframe tbody tr th:only-of-type {\n",
       "        vertical-align: middle;\n",
       "    }\n",
       "\n",
       "    .dataframe tbody tr th {\n",
       "        vertical-align: top;\n",
       "    }\n",
       "\n",
       "    .dataframe thead th {\n",
       "        text-align: right;\n",
       "    }\n",
       "</style>\n",
       "<table border=\"1\" class=\"dataframe\">\n",
       "  <thead>\n",
       "    <tr style=\"text-align: right;\">\n",
       "      <th></th>\n",
       "      <th>PropertyID</th>\n",
       "      <th>PropertyClass</th>\n",
       "      <th>PropertyZone</th>\n",
       "      <th>PropertyFrontage</th>\n",
       "      <th>PropertySize</th>\n",
       "      <th>Street</th>\n",
       "      <th>Alley</th>\n",
       "      <th>PropertyShape</th>\n",
       "      <th>Elevation</th>\n",
       "      <th>Amenities</th>\n",
       "      <th>...</th>\n",
       "      <th>PoolArea</th>\n",
       "      <th>PoolQC</th>\n",
       "      <th>BoundaryFeatures</th>\n",
       "      <th>AddFeatures</th>\n",
       "      <th>AddVal</th>\n",
       "      <th>SaleMon</th>\n",
       "      <th>SaleYr</th>\n",
       "      <th>SaleType</th>\n",
       "      <th>SaleCondn</th>\n",
       "      <th>PropPrice</th>\n",
       "    </tr>\n",
       "  </thead>\n",
       "  <tbody>\n",
       "    <tr>\n",
       "      <th>1455</th>\n",
       "      <td>1456</td>\n",
       "      <td>60</td>\n",
       "      <td>RL</td>\n",
       "      <td>62.0</td>\n",
       "      <td>7917</td>\n",
       "      <td>Pave</td>\n",
       "      <td>NaN</td>\n",
       "      <td>Reg</td>\n",
       "      <td>Lvl</td>\n",
       "      <td>AllPub</td>\n",
       "      <td>...</td>\n",
       "      <td>0</td>\n",
       "      <td>NaN</td>\n",
       "      <td>NaN</td>\n",
       "      <td>NaN</td>\n",
       "      <td>0</td>\n",
       "      <td>8</td>\n",
       "      <td>2007</td>\n",
       "      <td>WD</td>\n",
       "      <td>Normal</td>\n",
       "      <td>175000</td>\n",
       "    </tr>\n",
       "    <tr>\n",
       "      <th>1456</th>\n",
       "      <td>1457</td>\n",
       "      <td>20</td>\n",
       "      <td>RL</td>\n",
       "      <td>85.0</td>\n",
       "      <td>13175</td>\n",
       "      <td>Pave</td>\n",
       "      <td>NaN</td>\n",
       "      <td>Reg</td>\n",
       "      <td>Lvl</td>\n",
       "      <td>AllPub</td>\n",
       "      <td>...</td>\n",
       "      <td>0</td>\n",
       "      <td>NaN</td>\n",
       "      <td>MnPrv</td>\n",
       "      <td>NaN</td>\n",
       "      <td>0</td>\n",
       "      <td>2</td>\n",
       "      <td>2010</td>\n",
       "      <td>WD</td>\n",
       "      <td>Normal</td>\n",
       "      <td>210000</td>\n",
       "    </tr>\n",
       "    <tr>\n",
       "      <th>1457</th>\n",
       "      <td>1458</td>\n",
       "      <td>70</td>\n",
       "      <td>RL</td>\n",
       "      <td>66.0</td>\n",
       "      <td>9042</td>\n",
       "      <td>Pave</td>\n",
       "      <td>NaN</td>\n",
       "      <td>Reg</td>\n",
       "      <td>Lvl</td>\n",
       "      <td>AllPub</td>\n",
       "      <td>...</td>\n",
       "      <td>0</td>\n",
       "      <td>NaN</td>\n",
       "      <td>GdPrv</td>\n",
       "      <td>Shed</td>\n",
       "      <td>2500</td>\n",
       "      <td>5</td>\n",
       "      <td>2010</td>\n",
       "      <td>WD</td>\n",
       "      <td>Normal</td>\n",
       "      <td>266500</td>\n",
       "    </tr>\n",
       "    <tr>\n",
       "      <th>1458</th>\n",
       "      <td>1459</td>\n",
       "      <td>20</td>\n",
       "      <td>RL</td>\n",
       "      <td>68.0</td>\n",
       "      <td>9717</td>\n",
       "      <td>Pave</td>\n",
       "      <td>NaN</td>\n",
       "      <td>Reg</td>\n",
       "      <td>Lvl</td>\n",
       "      <td>AllPub</td>\n",
       "      <td>...</td>\n",
       "      <td>0</td>\n",
       "      <td>NaN</td>\n",
       "      <td>NaN</td>\n",
       "      <td>NaN</td>\n",
       "      <td>0</td>\n",
       "      <td>4</td>\n",
       "      <td>2010</td>\n",
       "      <td>WD</td>\n",
       "      <td>Normal</td>\n",
       "      <td>142125</td>\n",
       "    </tr>\n",
       "    <tr>\n",
       "      <th>1459</th>\n",
       "      <td>1460</td>\n",
       "      <td>20</td>\n",
       "      <td>RL</td>\n",
       "      <td>75.0</td>\n",
       "      <td>9937</td>\n",
       "      <td>Pave</td>\n",
       "      <td>NaN</td>\n",
       "      <td>Reg</td>\n",
       "      <td>Lvl</td>\n",
       "      <td>AllPub</td>\n",
       "      <td>...</td>\n",
       "      <td>0</td>\n",
       "      <td>NaN</td>\n",
       "      <td>NaN</td>\n",
       "      <td>NaN</td>\n",
       "      <td>0</td>\n",
       "      <td>6</td>\n",
       "      <td>2008</td>\n",
       "      <td>WD</td>\n",
       "      <td>Normal</td>\n",
       "      <td>147500</td>\n",
       "    </tr>\n",
       "  </tbody>\n",
       "</table>\n",
       "<p>5 rows × 81 columns</p>\n",
       "</div>"
      ],
      "text/plain": [
       "      PropertyID  PropertyClass PropertyZone  PropertyFrontage  PropertySize  \\\n",
       "1455        1456             60           RL              62.0          7917   \n",
       "1456        1457             20           RL              85.0         13175   \n",
       "1457        1458             70           RL              66.0          9042   \n",
       "1458        1459             20           RL              68.0          9717   \n",
       "1459        1460             20           RL              75.0          9937   \n",
       "\n",
       "     Street Alley PropertyShape Elevation Amenities  ... PoolArea PoolQC  \\\n",
       "1455   Pave   NaN           Reg       Lvl    AllPub  ...        0    NaN   \n",
       "1456   Pave   NaN           Reg       Lvl    AllPub  ...        0    NaN   \n",
       "1457   Pave   NaN           Reg       Lvl    AllPub  ...        0    NaN   \n",
       "1458   Pave   NaN           Reg       Lvl    AllPub  ...        0    NaN   \n",
       "1459   Pave   NaN           Reg       Lvl    AllPub  ...        0    NaN   \n",
       "\n",
       "     BoundaryFeatures AddFeatures AddVal SaleMon SaleYr  SaleType  SaleCondn  \\\n",
       "1455              NaN         NaN      0       8   2007        WD     Normal   \n",
       "1456            MnPrv         NaN      0       2   2010        WD     Normal   \n",
       "1457            GdPrv        Shed   2500       5   2010        WD     Normal   \n",
       "1458              NaN         NaN      0       4   2010        WD     Normal   \n",
       "1459              NaN         NaN      0       6   2008        WD     Normal   \n",
       "\n",
       "      PropPrice  \n",
       "1455     175000  \n",
       "1456     210000  \n",
       "1457     266500  \n",
       "1458     142125  \n",
       "1459     147500  \n",
       "\n",
       "[5 rows x 81 columns]"
      ]
     },
     "execution_count": 4,
     "metadata": {},
     "output_type": "execute_result"
    }
   ],
   "source": [
    "df.tail(5)"
   ]
  },
  {
   "cell_type": "markdown",
   "id": "e77f9b0b",
   "metadata": {},
   "source": [
    "# Get information about the daat"
   ]
  },
  {
   "cell_type": "code",
   "execution_count": 5,
   "id": "525db0c4",
   "metadata": {},
   "outputs": [
    {
     "data": {
      "text/plain": [
       "Index(['PropertyID', 'PropertyClass', 'PropertyZone', 'PropertyFrontage',\n",
       "       'PropertySize', 'Street', 'Alley', 'PropertyShape', 'Elevation',\n",
       "       'Amenities', 'Orientation', 'Grade', 'Neighborhood', 'Condition1',\n",
       "       'Condition2', 'BldgType', 'PropertyStyle', 'OverallQual', 'OverallCond',\n",
       "       'YearBuilt', 'YearRemodAdd', 'RoofStyle', 'RoofMatl', 'Roof1Material',\n",
       "       'Roof2Material', 'ExteriorCladdingType', 'ExteriorCladdingArea',\n",
       "       'ExterQual', 'ExterCond', 'PropertyFooting', 'BsmntFinish',\n",
       "       'BsmntMaintenance', 'BsmntVisibility', 'BsmntFinRat1', 'BsmntFinSty1',\n",
       "       'BsmntFinQual1', 'BsmtFinSF2', 'BsmtUnfSF', 'BsmntSqFtage', 'Heating',\n",
       "       'HeatingEfficiency', 'CentralAir', 'Electrical', '1stFlrSF', '2ndFlrSF',\n",
       "       'LowQualFinSF', 'GrLivArea', 'BsmtFullBath', 'BsmtHalfBath', 'Bath1',\n",
       "       'Bath2', 'BedroomUpLev', 'KitchenUpLev', 'KitchenQual', 'CntRmsUpLev',\n",
       "       'Functional', 'CntFireplaces', 'QualFireplace', 'BasementType',\n",
       "       'BasementYrBlt', 'BasementFinish', 'BasementCars', 'BasementSqFootage',\n",
       "       'BasementQual', 'BasementCond', 'PavedDrive', 'WoodDeckSF',\n",
       "       'OpenPorchSF', 'EnclosedPorch', '3SsnPorch', 'ScreenPorch', 'PoolArea',\n",
       "       'PoolQC', 'BoundaryFeatures', 'AddFeatures', 'AddVal', 'SaleMon',\n",
       "       'SaleYr', 'SaleType', 'SaleCondn', 'PropPrice'],\n",
       "      dtype='object')"
      ]
     },
     "execution_count": 5,
     "metadata": {},
     "output_type": "execute_result"
    }
   ],
   "source": [
    "df.columns"
   ]
  },
  {
   "cell_type": "code",
   "execution_count": 6,
   "id": "f25bfd27",
   "metadata": {},
   "outputs": [
    {
     "data": {
      "text/plain": [
       "<bound method DataFrame.info of       PropertyID  PropertyClass PropertyZone  PropertyFrontage  PropertySize  \\\n",
       "0              1             60           RL              65.0          8450   \n",
       "1              2             20           RL              80.0          9600   \n",
       "2              3             60           RL              68.0         11250   \n",
       "3              4             70           RL              60.0          9550   \n",
       "4              5             60           RL              84.0         14260   \n",
       "...          ...            ...          ...               ...           ...   \n",
       "1455        1456             60           RL              62.0          7917   \n",
       "1456        1457             20           RL              85.0         13175   \n",
       "1457        1458             70           RL              66.0          9042   \n",
       "1458        1459             20           RL              68.0          9717   \n",
       "1459        1460             20           RL              75.0          9937   \n",
       "\n",
       "     Street Alley PropertyShape Elevation Amenities  ... PoolArea PoolQC  \\\n",
       "0      Pave   NaN           Reg       Lvl    AllPub  ...        0    NaN   \n",
       "1      Pave   NaN           Reg       Lvl    AllPub  ...        0    NaN   \n",
       "2      Pave   NaN           IR1       Lvl    AllPub  ...        0    NaN   \n",
       "3      Pave   NaN           IR1       Lvl    AllPub  ...        0    NaN   \n",
       "4      Pave   NaN           IR1       Lvl    AllPub  ...        0    NaN   \n",
       "...     ...   ...           ...       ...       ...  ...      ...    ...   \n",
       "1455   Pave   NaN           Reg       Lvl    AllPub  ...        0    NaN   \n",
       "1456   Pave   NaN           Reg       Lvl    AllPub  ...        0    NaN   \n",
       "1457   Pave   NaN           Reg       Lvl    AllPub  ...        0    NaN   \n",
       "1458   Pave   NaN           Reg       Lvl    AllPub  ...        0    NaN   \n",
       "1459   Pave   NaN           Reg       Lvl    AllPub  ...        0    NaN   \n",
       "\n",
       "     BoundaryFeatures AddFeatures AddVal SaleMon SaleYr  SaleType  SaleCondn  \\\n",
       "0                 NaN         NaN      0       2   2008        WD     Normal   \n",
       "1                 NaN         NaN      0       5   2007        WD     Normal   \n",
       "2                 NaN         NaN      0       9   2008        WD     Normal   \n",
       "3                 NaN         NaN      0       2   2006        WD    Abnorml   \n",
       "4                 NaN         NaN      0      12   2008        WD     Normal   \n",
       "...               ...         ...    ...     ...    ...       ...        ...   \n",
       "1455              NaN         NaN      0       8   2007        WD     Normal   \n",
       "1456            MnPrv         NaN      0       2   2010        WD     Normal   \n",
       "1457            GdPrv        Shed   2500       5   2010        WD     Normal   \n",
       "1458              NaN         NaN      0       4   2010        WD     Normal   \n",
       "1459              NaN         NaN      0       6   2008        WD     Normal   \n",
       "\n",
       "      PropPrice  \n",
       "0        208500  \n",
       "1        181500  \n",
       "2        223500  \n",
       "3        140000  \n",
       "4        250000  \n",
       "...         ...  \n",
       "1455     175000  \n",
       "1456     210000  \n",
       "1457     266500  \n",
       "1458     142125  \n",
       "1459     147500  \n",
       "\n",
       "[1460 rows x 81 columns]>"
      ]
     },
     "execution_count": 6,
     "metadata": {},
     "output_type": "execute_result"
    }
   ],
   "source": [
    "df.info"
   ]
  },
  {
   "cell_type": "code",
   "execution_count": 7,
   "id": "636f381e",
   "metadata": {},
   "outputs": [
    {
     "data": {
      "text/plain": [
       "(1460, 81)"
      ]
     },
     "execution_count": 7,
     "metadata": {},
     "output_type": "execute_result"
    }
   ],
   "source": [
    "df.shape"
   ]
  },
  {
   "cell_type": "markdown",
   "id": "88240167",
   "metadata": {},
   "source": [
    "# Get the desciptive statistics summary of my data"
   ]
  },
  {
   "cell_type": "code",
   "execution_count": 8,
   "id": "07f72ff7",
   "metadata": {},
   "outputs": [
    {
     "data": {
      "text/html": [
       "<div>\n",
       "<style scoped>\n",
       "    .dataframe tbody tr th:only-of-type {\n",
       "        vertical-align: middle;\n",
       "    }\n",
       "\n",
       "    .dataframe tbody tr th {\n",
       "        vertical-align: top;\n",
       "    }\n",
       "\n",
       "    .dataframe thead th {\n",
       "        text-align: right;\n",
       "    }\n",
       "</style>\n",
       "<table border=\"1\" class=\"dataframe\">\n",
       "  <thead>\n",
       "    <tr style=\"text-align: right;\">\n",
       "      <th></th>\n",
       "      <th>PropertyID</th>\n",
       "      <th>PropertyClass</th>\n",
       "      <th>PropertyFrontage</th>\n",
       "      <th>PropertySize</th>\n",
       "      <th>OverallQual</th>\n",
       "      <th>OverallCond</th>\n",
       "      <th>YearBuilt</th>\n",
       "      <th>YearRemodAdd</th>\n",
       "      <th>ExteriorCladdingArea</th>\n",
       "      <th>BsmntFinSty1</th>\n",
       "      <th>...</th>\n",
       "      <th>WoodDeckSF</th>\n",
       "      <th>OpenPorchSF</th>\n",
       "      <th>EnclosedPorch</th>\n",
       "      <th>3SsnPorch</th>\n",
       "      <th>ScreenPorch</th>\n",
       "      <th>PoolArea</th>\n",
       "      <th>AddVal</th>\n",
       "      <th>SaleMon</th>\n",
       "      <th>SaleYr</th>\n",
       "      <th>PropPrice</th>\n",
       "    </tr>\n",
       "  </thead>\n",
       "  <tbody>\n",
       "    <tr>\n",
       "      <th>count</th>\n",
       "      <td>1460.000000</td>\n",
       "      <td>1460.000000</td>\n",
       "      <td>1201.000000</td>\n",
       "      <td>1460.000000</td>\n",
       "      <td>1460.000000</td>\n",
       "      <td>1460.000000</td>\n",
       "      <td>1460.000000</td>\n",
       "      <td>1460.000000</td>\n",
       "      <td>1452.000000</td>\n",
       "      <td>1460.000000</td>\n",
       "      <td>...</td>\n",
       "      <td>1460.000000</td>\n",
       "      <td>1460.000000</td>\n",
       "      <td>1460.000000</td>\n",
       "      <td>1460.000000</td>\n",
       "      <td>1460.000000</td>\n",
       "      <td>1460.000000</td>\n",
       "      <td>1460.000000</td>\n",
       "      <td>1460.000000</td>\n",
       "      <td>1460.000000</td>\n",
       "      <td>1460.000000</td>\n",
       "    </tr>\n",
       "    <tr>\n",
       "      <th>mean</th>\n",
       "      <td>730.500000</td>\n",
       "      <td>56.897260</td>\n",
       "      <td>70.049958</td>\n",
       "      <td>10516.828082</td>\n",
       "      <td>6.099315</td>\n",
       "      <td>5.575342</td>\n",
       "      <td>1971.267808</td>\n",
       "      <td>1984.865753</td>\n",
       "      <td>103.685262</td>\n",
       "      <td>443.639726</td>\n",
       "      <td>...</td>\n",
       "      <td>94.244521</td>\n",
       "      <td>46.660274</td>\n",
       "      <td>21.954110</td>\n",
       "      <td>3.409589</td>\n",
       "      <td>15.060959</td>\n",
       "      <td>2.758904</td>\n",
       "      <td>43.489041</td>\n",
       "      <td>6.321918</td>\n",
       "      <td>2007.815753</td>\n",
       "      <td>180921.195890</td>\n",
       "    </tr>\n",
       "    <tr>\n",
       "      <th>std</th>\n",
       "      <td>421.610009</td>\n",
       "      <td>42.300571</td>\n",
       "      <td>24.284752</td>\n",
       "      <td>9981.264932</td>\n",
       "      <td>1.382997</td>\n",
       "      <td>1.112799</td>\n",
       "      <td>30.202904</td>\n",
       "      <td>20.645407</td>\n",
       "      <td>181.066207</td>\n",
       "      <td>456.098091</td>\n",
       "      <td>...</td>\n",
       "      <td>125.338794</td>\n",
       "      <td>66.256028</td>\n",
       "      <td>61.119149</td>\n",
       "      <td>29.317331</td>\n",
       "      <td>55.757415</td>\n",
       "      <td>40.177307</td>\n",
       "      <td>496.123024</td>\n",
       "      <td>2.703626</td>\n",
       "      <td>1.328095</td>\n",
       "      <td>79442.502883</td>\n",
       "    </tr>\n",
       "    <tr>\n",
       "      <th>min</th>\n",
       "      <td>1.000000</td>\n",
       "      <td>20.000000</td>\n",
       "      <td>21.000000</td>\n",
       "      <td>1300.000000</td>\n",
       "      <td>1.000000</td>\n",
       "      <td>1.000000</td>\n",
       "      <td>1872.000000</td>\n",
       "      <td>1950.000000</td>\n",
       "      <td>0.000000</td>\n",
       "      <td>0.000000</td>\n",
       "      <td>...</td>\n",
       "      <td>0.000000</td>\n",
       "      <td>0.000000</td>\n",
       "      <td>0.000000</td>\n",
       "      <td>0.000000</td>\n",
       "      <td>0.000000</td>\n",
       "      <td>0.000000</td>\n",
       "      <td>0.000000</td>\n",
       "      <td>1.000000</td>\n",
       "      <td>2006.000000</td>\n",
       "      <td>34900.000000</td>\n",
       "    </tr>\n",
       "    <tr>\n",
       "      <th>25%</th>\n",
       "      <td>365.750000</td>\n",
       "      <td>20.000000</td>\n",
       "      <td>59.000000</td>\n",
       "      <td>7553.500000</td>\n",
       "      <td>5.000000</td>\n",
       "      <td>5.000000</td>\n",
       "      <td>1954.000000</td>\n",
       "      <td>1967.000000</td>\n",
       "      <td>0.000000</td>\n",
       "      <td>0.000000</td>\n",
       "      <td>...</td>\n",
       "      <td>0.000000</td>\n",
       "      <td>0.000000</td>\n",
       "      <td>0.000000</td>\n",
       "      <td>0.000000</td>\n",
       "      <td>0.000000</td>\n",
       "      <td>0.000000</td>\n",
       "      <td>0.000000</td>\n",
       "      <td>5.000000</td>\n",
       "      <td>2007.000000</td>\n",
       "      <td>129975.000000</td>\n",
       "    </tr>\n",
       "    <tr>\n",
       "      <th>50%</th>\n",
       "      <td>730.500000</td>\n",
       "      <td>50.000000</td>\n",
       "      <td>69.000000</td>\n",
       "      <td>9478.500000</td>\n",
       "      <td>6.000000</td>\n",
       "      <td>5.000000</td>\n",
       "      <td>1973.000000</td>\n",
       "      <td>1994.000000</td>\n",
       "      <td>0.000000</td>\n",
       "      <td>383.500000</td>\n",
       "      <td>...</td>\n",
       "      <td>0.000000</td>\n",
       "      <td>25.000000</td>\n",
       "      <td>0.000000</td>\n",
       "      <td>0.000000</td>\n",
       "      <td>0.000000</td>\n",
       "      <td>0.000000</td>\n",
       "      <td>0.000000</td>\n",
       "      <td>6.000000</td>\n",
       "      <td>2008.000000</td>\n",
       "      <td>163000.000000</td>\n",
       "    </tr>\n",
       "    <tr>\n",
       "      <th>75%</th>\n",
       "      <td>1095.250000</td>\n",
       "      <td>70.000000</td>\n",
       "      <td>80.000000</td>\n",
       "      <td>11601.500000</td>\n",
       "      <td>7.000000</td>\n",
       "      <td>6.000000</td>\n",
       "      <td>2000.000000</td>\n",
       "      <td>2004.000000</td>\n",
       "      <td>166.000000</td>\n",
       "      <td>712.250000</td>\n",
       "      <td>...</td>\n",
       "      <td>168.000000</td>\n",
       "      <td>68.000000</td>\n",
       "      <td>0.000000</td>\n",
       "      <td>0.000000</td>\n",
       "      <td>0.000000</td>\n",
       "      <td>0.000000</td>\n",
       "      <td>0.000000</td>\n",
       "      <td>8.000000</td>\n",
       "      <td>2009.000000</td>\n",
       "      <td>214000.000000</td>\n",
       "    </tr>\n",
       "    <tr>\n",
       "      <th>max</th>\n",
       "      <td>1460.000000</td>\n",
       "      <td>190.000000</td>\n",
       "      <td>313.000000</td>\n",
       "      <td>215245.000000</td>\n",
       "      <td>10.000000</td>\n",
       "      <td>9.000000</td>\n",
       "      <td>2010.000000</td>\n",
       "      <td>2010.000000</td>\n",
       "      <td>1600.000000</td>\n",
       "      <td>5644.000000</td>\n",
       "      <td>...</td>\n",
       "      <td>857.000000</td>\n",
       "      <td>547.000000</td>\n",
       "      <td>552.000000</td>\n",
       "      <td>508.000000</td>\n",
       "      <td>480.000000</td>\n",
       "      <td>738.000000</td>\n",
       "      <td>15500.000000</td>\n",
       "      <td>12.000000</td>\n",
       "      <td>2010.000000</td>\n",
       "      <td>755000.000000</td>\n",
       "    </tr>\n",
       "  </tbody>\n",
       "</table>\n",
       "<p>8 rows × 38 columns</p>\n",
       "</div>"
      ],
      "text/plain": [
       "        PropertyID  PropertyClass  PropertyFrontage   PropertySize  \\\n",
       "count  1460.000000    1460.000000       1201.000000    1460.000000   \n",
       "mean    730.500000      56.897260         70.049958   10516.828082   \n",
       "std     421.610009      42.300571         24.284752    9981.264932   \n",
       "min       1.000000      20.000000         21.000000    1300.000000   \n",
       "25%     365.750000      20.000000         59.000000    7553.500000   \n",
       "50%     730.500000      50.000000         69.000000    9478.500000   \n",
       "75%    1095.250000      70.000000         80.000000   11601.500000   \n",
       "max    1460.000000     190.000000        313.000000  215245.000000   \n",
       "\n",
       "       OverallQual  OverallCond    YearBuilt  YearRemodAdd  \\\n",
       "count  1460.000000  1460.000000  1460.000000   1460.000000   \n",
       "mean      6.099315     5.575342  1971.267808   1984.865753   \n",
       "std       1.382997     1.112799    30.202904     20.645407   \n",
       "min       1.000000     1.000000  1872.000000   1950.000000   \n",
       "25%       5.000000     5.000000  1954.000000   1967.000000   \n",
       "50%       6.000000     5.000000  1973.000000   1994.000000   \n",
       "75%       7.000000     6.000000  2000.000000   2004.000000   \n",
       "max      10.000000     9.000000  2010.000000   2010.000000   \n",
       "\n",
       "       ExteriorCladdingArea  BsmntFinSty1  ...   WoodDeckSF  OpenPorchSF  \\\n",
       "count           1452.000000   1460.000000  ...  1460.000000  1460.000000   \n",
       "mean             103.685262    443.639726  ...    94.244521    46.660274   \n",
       "std              181.066207    456.098091  ...   125.338794    66.256028   \n",
       "min                0.000000      0.000000  ...     0.000000     0.000000   \n",
       "25%                0.000000      0.000000  ...     0.000000     0.000000   \n",
       "50%                0.000000    383.500000  ...     0.000000    25.000000   \n",
       "75%              166.000000    712.250000  ...   168.000000    68.000000   \n",
       "max             1600.000000   5644.000000  ...   857.000000   547.000000   \n",
       "\n",
       "       EnclosedPorch    3SsnPorch  ScreenPorch     PoolArea        AddVal  \\\n",
       "count    1460.000000  1460.000000  1460.000000  1460.000000   1460.000000   \n",
       "mean       21.954110     3.409589    15.060959     2.758904     43.489041   \n",
       "std        61.119149    29.317331    55.757415    40.177307    496.123024   \n",
       "min         0.000000     0.000000     0.000000     0.000000      0.000000   \n",
       "25%         0.000000     0.000000     0.000000     0.000000      0.000000   \n",
       "50%         0.000000     0.000000     0.000000     0.000000      0.000000   \n",
       "75%         0.000000     0.000000     0.000000     0.000000      0.000000   \n",
       "max       552.000000   508.000000   480.000000   738.000000  15500.000000   \n",
       "\n",
       "           SaleMon       SaleYr      PropPrice  \n",
       "count  1460.000000  1460.000000    1460.000000  \n",
       "mean      6.321918  2007.815753  180921.195890  \n",
       "std       2.703626     1.328095   79442.502883  \n",
       "min       1.000000  2006.000000   34900.000000  \n",
       "25%       5.000000  2007.000000  129975.000000  \n",
       "50%       6.000000  2008.000000  163000.000000  \n",
       "75%       8.000000  2009.000000  214000.000000  \n",
       "max      12.000000  2010.000000  755000.000000  \n",
       "\n",
       "[8 rows x 38 columns]"
      ]
     },
     "execution_count": 8,
     "metadata": {},
     "output_type": "execute_result"
    }
   ],
   "source": [
    "df.describe()"
   ]
  },
  {
   "cell_type": "markdown",
   "id": "cc828c11",
   "metadata": {},
   "source": [
    "# 2. Cleaning The Data:"
   ]
  },
  {
   "cell_type": "markdown",
   "id": "9de0fdc9",
   "metadata": {},
   "source": [
    "# Convert float column itni int64"
   ]
  },
  {
   "cell_type": "code",
   "execution_count": 9,
   "id": "1d319ab6",
   "metadata": {},
   "outputs": [],
   "source": [
    "df['PropertyFrontage']=df['PropertyFrontage'].replace(to_replace=np.nan,value=0).astype('int64')\n",
    "df['ExteriorCladdingArea']=df['ExteriorCladdingArea'].replace(to_replace=np.nan,value=0).astype('int64')\n",
    "df['BasementYrBlt']=df['BasementYrBlt'].replace(to_replace=np.nan,value=0).astype('int64')"
   ]
  },
  {
   "cell_type": "code",
   "execution_count": 10,
   "id": "f962dba6",
   "metadata": {},
   "outputs": [
    {
     "name": "stdout",
     "output_type": "stream",
     "text": [
      "<class 'pandas.core.frame.DataFrame'>\n",
      "RangeIndex: 1460 entries, 0 to 1459\n",
      "Data columns (total 81 columns):\n",
      " #   Column                Non-Null Count  Dtype \n",
      "---  ------                --------------  ----- \n",
      " 0   PropertyID            1460 non-null   int64 \n",
      " 1   PropertyClass         1460 non-null   int64 \n",
      " 2   PropertyZone          1460 non-null   object\n",
      " 3   PropertyFrontage      1460 non-null   int64 \n",
      " 4   PropertySize          1460 non-null   int64 \n",
      " 5   Street                1460 non-null   object\n",
      " 6   Alley                 91 non-null     object\n",
      " 7   PropertyShape         1460 non-null   object\n",
      " 8   Elevation             1460 non-null   object\n",
      " 9   Amenities             1460 non-null   object\n",
      " 10  Orientation           1460 non-null   object\n",
      " 11  Grade                 1460 non-null   object\n",
      " 12  Neighborhood          1460 non-null   object\n",
      " 13  Condition1            1460 non-null   object\n",
      " 14  Condition2            1460 non-null   object\n",
      " 15  BldgType              1460 non-null   object\n",
      " 16  PropertyStyle         1460 non-null   object\n",
      " 17  OverallQual           1460 non-null   int64 \n",
      " 18  OverallCond           1460 non-null   int64 \n",
      " 19  YearBuilt             1460 non-null   int64 \n",
      " 20  YearRemodAdd          1460 non-null   int64 \n",
      " 21  RoofStyle             1460 non-null   object\n",
      " 22  RoofMatl              1460 non-null   object\n",
      " 23  Roof1Material         1460 non-null   object\n",
      " 24  Roof2Material         1460 non-null   object\n",
      " 25  ExteriorCladdingType  588 non-null    object\n",
      " 26  ExteriorCladdingArea  1460 non-null   int64 \n",
      " 27  ExterQual             1460 non-null   object\n",
      " 28  ExterCond             1460 non-null   object\n",
      " 29  PropertyFooting       1460 non-null   object\n",
      " 30  BsmntFinish           1423 non-null   object\n",
      " 31  BsmntMaintenance      1423 non-null   object\n",
      " 32  BsmntVisibility       1422 non-null   object\n",
      " 33  BsmntFinRat1          1423 non-null   object\n",
      " 34  BsmntFinSty1          1460 non-null   int64 \n",
      " 35  BsmntFinQual1         1422 non-null   object\n",
      " 36  BsmtFinSF2            1460 non-null   int64 \n",
      " 37  BsmtUnfSF             1460 non-null   int64 \n",
      " 38  BsmntSqFtage          1460 non-null   int64 \n",
      " 39  Heating               1460 non-null   object\n",
      " 40  HeatingEfficiency     1460 non-null   object\n",
      " 41  CentralAir            1460 non-null   object\n",
      " 42  Electrical            1459 non-null   object\n",
      " 43  1stFlrSF              1460 non-null   int64 \n",
      " 44  2ndFlrSF              1460 non-null   int64 \n",
      " 45  LowQualFinSF          1460 non-null   int64 \n",
      " 46  GrLivArea             1460 non-null   int64 \n",
      " 47  BsmtFullBath          1460 non-null   int64 \n",
      " 48  BsmtHalfBath          1460 non-null   int64 \n",
      " 49  Bath1                 1460 non-null   int64 \n",
      " 50  Bath2                 1460 non-null   int64 \n",
      " 51  BedroomUpLev          1460 non-null   int64 \n",
      " 52  KitchenUpLev          1460 non-null   int64 \n",
      " 53  KitchenQual           1460 non-null   object\n",
      " 54  CntRmsUpLev           1460 non-null   int64 \n",
      " 55  Functional            1460 non-null   object\n",
      " 56  CntFireplaces         1460 non-null   int64 \n",
      " 57  QualFireplace         770 non-null    object\n",
      " 58  BasementType          1379 non-null   object\n",
      " 59  BasementYrBlt         1460 non-null   int64 \n",
      " 60  BasementFinish        1379 non-null   object\n",
      " 61  BasementCars          1460 non-null   int64 \n",
      " 62  BasementSqFootage     1460 non-null   int64 \n",
      " 63  BasementQual          1379 non-null   object\n",
      " 64  BasementCond          1379 non-null   object\n",
      " 65  PavedDrive            1460 non-null   object\n",
      " 66  WoodDeckSF            1460 non-null   int64 \n",
      " 67  OpenPorchSF           1460 non-null   int64 \n",
      " 68  EnclosedPorch         1460 non-null   int64 \n",
      " 69  3SsnPorch             1460 non-null   int64 \n",
      " 70  ScreenPorch           1460 non-null   int64 \n",
      " 71  PoolArea              1460 non-null   int64 \n",
      " 72  PoolQC                7 non-null      object\n",
      " 73  BoundaryFeatures      281 non-null    object\n",
      " 74  AddFeatures           54 non-null     object\n",
      " 75  AddVal                1460 non-null   int64 \n",
      " 76  SaleMon               1460 non-null   int64 \n",
      " 77  SaleYr                1460 non-null   int64 \n",
      " 78  SaleType              1460 non-null   object\n",
      " 79  SaleCondn             1460 non-null   object\n",
      " 80  PropPrice             1460 non-null   int64 \n",
      "dtypes: int64(38), object(43)\n",
      "memory usage: 924.0+ KB\n"
     ]
    }
   ],
   "source": [
    "df.info()"
   ]
  },
  {
   "cell_type": "code",
   "execution_count": 11,
   "id": "c77d1890",
   "metadata": {},
   "outputs": [
    {
     "data": {
      "text/plain": [
       "Alley                   1369\n",
       "ExteriorCladdingType     872\n",
       "BsmntFinish               37\n",
       "BsmntMaintenance          37\n",
       "BsmntVisibility           38\n",
       "BsmntFinRat1              37\n",
       "BsmntFinQual1             38\n",
       "Electrical                 1\n",
       "QualFireplace            690\n",
       "BasementType              81\n",
       "BasementFinish            81\n",
       "BasementQual              81\n",
       "BasementCond              81\n",
       "PoolQC                  1453\n",
       "BoundaryFeatures        1179\n",
       "AddFeatures             1406\n",
       "dtype: int64"
      ]
     },
     "execution_count": 11,
     "metadata": {},
     "output_type": "execute_result"
    }
   ],
   "source": [
    "missing_values = df.isnull().sum()\n",
    "missing_values[missing_values > 0]"
   ]
  },
  {
   "cell_type": "code",
   "execution_count": null,
   "id": "1e036423",
   "metadata": {},
   "outputs": [],
   "source": [
    "#  Filling numerical missing values with median\n",
    "numerical_cols = df.select_dtypes(include=['float64', 'int64']).columns\n",
    "df[numerical_cols] = df[numerical_cols].apply(lambda x: x.fillna(x.median()), axis=0)"
   ]
  },
  {
   "cell_type": "code",
   "execution_count": null,
   "id": "b8409435",
   "metadata": {},
   "outputs": [],
   "source": [
    "# Filling categorical missing values with 'Unknown'\n",
    "categorical_cols = df.select_dtypes(include=['object']).columns\n",
    "df[categorical_cols] = df[categorical_cols].apply(lambda x: x.fillna('Unknown'))"
   ]
  },
  {
   "cell_type": "code",
   "execution_count": null,
   "id": "7d832607",
   "metadata": {},
   "outputs": [],
   "source": [
    "df.isnull().sum().iloc[0:50]"
   ]
  },
  {
   "cell_type": "markdown",
   "id": "8fb5b1e3",
   "metadata": {},
   "source": [
    "# Remove Duplicates"
   ]
  },
  {
   "cell_type": "code",
   "execution_count": null,
   "id": "9ede9161",
   "metadata": {},
   "outputs": [],
   "source": [
    "df = df.drop_duplicates()"
   ]
  },
  {
   "cell_type": "code",
   "execution_count": null,
   "id": "f24ac009",
   "metadata": {},
   "outputs": [],
   "source": [
    "df.head(5)"
   ]
  },
  {
   "cell_type": "code",
   "execution_count": null,
   "id": "970891ca",
   "metadata": {},
   "outputs": [],
   "source": [
    "df.shape"
   ]
  },
  {
   "cell_type": "markdown",
   "id": "b465a8a3",
   "metadata": {},
   "source": [
    "# Convert Data Types"
   ]
  },
  {
   "cell_type": "markdown",
   "id": "90a62112",
   "metadata": {},
   "source": [
    "# one hot encoding"
   ]
  },
  {
   "cell_type": "code",
   "execution_count": null,
   "id": "89bb5443",
   "metadata": {},
   "outputs": [],
   "source": [
    "df = pd.get_dummies(df, columns=categorical_cols, drop_first=True)"
   ]
  },
  {
   "cell_type": "code",
   "execution_count": null,
   "id": "0af94d19",
   "metadata": {},
   "outputs": [],
   "source": [
    "df.shape"
   ]
  },
  {
   "cell_type": "markdown",
   "id": "08d0399a",
   "metadata": {},
   "source": [
    "# Handling Outliers"
   ]
  },
  {
   "cell_type": "markdown",
   "id": "9bb9eb9b",
   "metadata": {},
   "source": [
    "# Remove outliers in 'PropPrice'"
   ]
  },
  {
   "cell_type": "markdown",
   "id": "6b2e5532",
   "metadata": {},
   "source": [
    "# Box Plot"
   ]
  },
  {
   "cell_type": "code",
   "execution_count": null,
   "id": "451a292a",
   "metadata": {},
   "outputs": [],
   "source": [
    "plt.figure(figsize=(10, 6))\n",
    "sns.boxplot(data=df, y='PropPrice')\n",
    "plt.ylabel('PropPrice')\n",
    "plt.title('Box Plot of PropPrice')\n",
    "plt.show()"
   ]
  },
  {
   "cell_type": "markdown",
   "id": "81b01e90",
   "metadata": {},
   "source": [
    "# Kernel Density Estimation"
   ]
  },
  {
   "cell_type": "code",
   "execution_count": null,
   "id": "afc60b40",
   "metadata": {},
   "outputs": [],
   "source": [
    "plt.figure(figsize=(10, 6))\n",
    "sns.kdeplot(data=df['PropPrice'], shade=True)\n",
    "plt.xlabel('PropPrice')\n",
    "plt.ylabel('Density')\n",
    "plt.title('Kernel Density Estimation of PropPrice')\n",
    "plt.show()"
   ]
  },
  {
   "cell_type": "code",
   "execution_count": null,
   "id": "8c6f892b",
   "metadata": {},
   "outputs": [],
   "source": [
    "quantile_low = df['PropPrice'].quantile(0.01)\n",
    "quantile_high = df['PropPrice'].quantile(0.99)\n",
    "df = df[(df['PropPrice']>quantile_low) & (df['PropPrice']<quantile_high)]"
   ]
  },
  {
   "cell_type": "code",
   "execution_count": null,
   "id": "b571b884",
   "metadata": {},
   "outputs": [],
   "source": [
    "plt.figure(figsize=(10, 6))\n",
    "sns.boxplot(data=df, y='PropPrice')\n",
    "plt.ylabel('PropPrice')\n",
    "plt.title('Box Plot of PropPrice')\n",
    "plt.show()"
   ]
  },
  {
   "cell_type": "code",
   "execution_count": null,
   "id": "952785ba",
   "metadata": {},
   "outputs": [],
   "source": [
    "plt.figure(figsize=(10, 6))\n",
    "sns.kdeplot(data=df['PropPrice'], shade=True)\n",
    "plt.xlabel('PropPrice')\n",
    "plt.ylabel('Density')\n",
    "plt.title('Kernel Density Estimation of PropPrice')\n",
    "plt.show()"
   ]
  },
  {
   "cell_type": "code",
   "execution_count": null,
   "id": "7ab4e875",
   "metadata": {},
   "outputs": [],
   "source": [
    "df.duplicated().sum()"
   ]
  },
  {
   "cell_type": "markdown",
   "id": "7224ac11",
   "metadata": {},
   "source": [
    "# 3. Exploratory Data Analysis (EDA)"
   ]
  },
  {
   "cell_type": "markdown",
   "id": "2557da3d",
   "metadata": {},
   "source": [
    "# Compute the correlation matrix"
   ]
  },
  {
   "cell_type": "code",
   "execution_count": null,
   "id": "94c1916f",
   "metadata": {},
   "outputs": [],
   "source": [
    "numerical_cols = df.select_dtypes(include=[np.number])\n",
    "corr_matrix = df.corr()"
   ]
  },
  {
   "cell_type": "code",
   "execution_count": null,
   "id": "c8a53f06",
   "metadata": {},
   "outputs": [],
   "source": [
    "corr_matrix"
   ]
  },
  {
   "cell_type": "markdown",
   "id": "52dd9029",
   "metadata": {},
   "source": [
    "# Heatmap"
   ]
  },
  {
   "cell_type": "code",
   "execution_count": null,
   "id": "413844c3",
   "metadata": {},
   "outputs": [],
   "source": [
    "plt.figure(figsize=(12, 10))\n",
    "sns.heatmap(corr_matrix, annot=True, fmt=\".2f\", cmap='coolwarm')\n",
    "plt.title('Correlation Matrix of Variables')\n",
    "plt.show()"
   ]
  },
  {
   "cell_type": "markdown",
   "id": "31c575c5",
   "metadata": {},
   "source": [
    "# Pairplot"
   ]
  },
  {
   "cell_type": "code",
   "execution_count": null,
   "id": "fcc22cb4",
   "metadata": {},
   "outputs": [],
   "source": [
    "sns.pairplot(numerical_cols[['PropertyID', 'YearBuilt', 'SaleYr', 'PoolArea', 'BsmntSqFtage',\n",
    "       'PropertyFrontage', 'OpenPorchSF','PropPrice']], height=5)\n",
    "plt.show()"
   ]
  },
  {
   "cell_type": "markdown",
   "id": "cf7232e0",
   "metadata": {},
   "source": [
    "# PropPrice distribution"
   ]
  },
  {
   "cell_type": "code",
   "execution_count": null,
   "id": "d765dd19",
   "metadata": {},
   "outputs": [],
   "source": [
    "plt.figure(figsize=(8, 6))\n",
    "sns.histplot(data=df, x='PropPrice', kde=True)\n",
    "plt.title('Distribution of PropPrice')\n",
    "plt.show()"
   ]
  },
  {
   "cell_type": "markdown",
   "id": "130b4560",
   "metadata": {},
   "source": [
    "# Violin plots"
   ]
  },
  {
   "cell_type": "code",
   "execution_count": null,
   "id": "e8a9e262",
   "metadata": {},
   "outputs": [],
   "source": [
    "plt.figure(figsize=(10, 6))\n",
    "sns.violinplot(data=df, y='PropPrice')\n",
    "plt.ylabel('PropPrice')\n",
    "plt.title('Violin Plot of PropPrice')\n",
    "plt.show()"
   ]
  },
  {
   "cell_type": "markdown",
   "id": "410423a4",
   "metadata": {},
   "source": [
    "# 4.Feature Engineering:"
   ]
  },
  {
   "cell_type": "markdown",
   "id": "5fdca2fc",
   "metadata": {},
   "source": [
    "# Calculate age at sale"
   ]
  },
  {
   "cell_type": "code",
   "execution_count": null,
   "id": "6366832d",
   "metadata": {},
   "outputs": [],
   "source": [
    "df['AgeAtSale'] = df['SaleYr'] - df['YearBuilt']"
   ]
  },
  {
   "cell_type": "code",
   "execution_count": null,
   "id": "53e4b53b",
   "metadata": {},
   "outputs": [],
   "source": [
    "df['YearsSinceRemodel'] = df['SaleYr'] - df['YearRemodAdd']"
   ]
  },
  {
   "cell_type": "markdown",
   "id": "e20c0b6e",
   "metadata": {},
   "source": [
    "# Display the first few rows to verify the new columns"
   ]
  },
  {
   "cell_type": "code",
   "execution_count": null,
   "id": "df847a8d",
   "metadata": {},
   "outputs": [],
   "source": [
    "print(df[['AgeAtSale', 'YearsSinceRemodel']].head())"
   ]
  },
  {
   "cell_type": "markdown",
   "id": "d2ebd16d",
   "metadata": {},
   "source": [
    "# Calculate total square foot"
   ]
  },
  {
   "cell_type": "code",
   "execution_count": null,
   "id": "38dfaf4e",
   "metadata": {},
   "outputs": [],
   "source": [
    "df['TotalSF'] = df['1stFlrSF'] + df['2ndFlrSF'] + df['BsmtFinSF2']"
   ]
  },
  {
   "cell_type": "code",
   "execution_count": null,
   "id": "163099db",
   "metadata": {},
   "outputs": [],
   "source": [
    "print(df[['TotalSF']].head())"
   ]
  },
  {
   "cell_type": "markdown",
   "id": "3b217923",
   "metadata": {},
   "source": [
    "# Calculate Total Bath rooms"
   ]
  },
  {
   "cell_type": "code",
   "execution_count": null,
   "id": "4b3c9dd2",
   "metadata": {},
   "outputs": [],
   "source": [
    "df['TotalBath'] = df['BsmtFullBath'] + 0.5 * df['BsmtHalfBath']"
   ]
  },
  {
   "cell_type": "code",
   "execution_count": null,
   "id": "312c1e7c",
   "metadata": {},
   "outputs": [],
   "source": [
    "print(df[['TotalBath']].head())"
   ]
  },
  {
   "cell_type": "markdown",
   "id": "0f60aec5",
   "metadata": {},
   "source": [
    "# 5. Model Selection:"
   ]
  },
  {
   "cell_type": "code",
   "execution_count": null,
   "id": "6b38191f",
   "metadata": {},
   "outputs": [],
   "source": [
    "from sklearn.model_selection import train_test_split"
   ]
  },
  {
   "cell_type": "code",
   "execution_count": null,
   "id": "a1532474",
   "metadata": {},
   "outputs": [],
   "source": [
    "X=df.drop('PropPrice',axis=1)\n",
    "Y=df.PropPrice"
   ]
  },
  {
   "cell_type": "code",
   "execution_count": null,
   "id": "64cd928a",
   "metadata": {},
   "outputs": [],
   "source": [
    "X"
   ]
  },
  {
   "cell_type": "code",
   "execution_count": null,
   "id": "9306d7f7",
   "metadata": {},
   "outputs": [],
   "source": [
    "Y"
   ]
  },
  {
   "cell_type": "code",
   "execution_count": null,
   "id": "e3d3aa45",
   "metadata": {},
   "outputs": [],
   "source": [
    "X_train, X_test, Y_train, Y_test = train_test_split(X, Y, test_size=0.2, random_state=42)"
   ]
  },
  {
   "cell_type": "markdown",
   "id": "aa550ffb",
   "metadata": {},
   "source": [
    "# Creating Random Forest Regressor Model"
   ]
  },
  {
   "cell_type": "code",
   "execution_count": null,
   "id": "4f3e16a3",
   "metadata": {},
   "outputs": [],
   "source": [
    "from sklearn.ensemble import RandomForestRegressor\n",
    "rf_model = RandomForestRegressor()\n",
    "rf_model.fit(X_train,Y_train)"
   ]
  },
  {
   "cell_type": "code",
   "execution_count": null,
   "id": "a48aeb33",
   "metadata": {},
   "outputs": [],
   "source": [
    "y_pred = rf_model.predict(X_test)"
   ]
  },
  {
   "cell_type": "code",
   "execution_count": null,
   "id": "044ef44d",
   "metadata": {},
   "outputs": [],
   "source": [
    "y_pred"
   ]
  },
  {
   "cell_type": "code",
   "execution_count": null,
   "id": "5159421e",
   "metadata": {},
   "outputs": [],
   "source": [
    "score = rf_model.score(X_test, Y_test)\n",
    "print(f'Model Score: {score}')"
   ]
  },
  {
   "cell_type": "code",
   "execution_count": null,
   "id": "1cb97c7e",
   "metadata": {},
   "outputs": [],
   "source": [
    "from sklearn.metrics import mean_squared_error, r2_score"
   ]
  },
  {
   "cell_type": "code",
   "execution_count": null,
   "id": "b933dfed",
   "metadata": {},
   "outputs": [],
   "source": [
    "mse = mean_squared_error(Y_test, y_pred)\n",
    "r2 = r2_score(Y_test, y_pred)\n",
    "\n",
    "print(f'Mean Squared Error: {mse}')\n",
    "print(f'R-squared: {r2}')"
   ]
  },
  {
   "cell_type": "markdown",
   "id": "b89dea46",
   "metadata": {},
   "source": [
    "# Creating Linear Regression Model"
   ]
  },
  {
   "cell_type": "code",
   "execution_count": null,
   "id": "be37ab18",
   "metadata": {},
   "outputs": [],
   "source": [
    "from sklearn.linear_model import LinearRegression\n",
    "lr_model = LinearRegression()\n",
    "lr_model.fit(X_train,Y_train)\n",
    "Y_pred = model.predict(X_test)"
   ]
  },
  {
   "cell_type": "code",
   "execution_count": null,
   "id": "4b38449b",
   "metadata": {},
   "outputs": [],
   "source": [
    "score = lr_model.score(X_test, Y_test)\n",
    "print(f'Model Score: {score}')"
   ]
  },
  {
   "cell_type": "code",
   "execution_count": null,
   "id": "a7d77a83",
   "metadata": {},
   "outputs": [],
   "source": [
    "mse = mean_squared_error(Y_test, Y_pred)\n",
    "r2 = r2_score(Y_test, Y_pred)\n",
    "\n",
    "print(f'Mean Squared Error: {mse}')\n",
    "print(f'R-squared: {r2}')"
   ]
  },
  {
   "cell_type": "markdown",
   "id": "2d7739e9",
   "metadata": {},
   "source": [
    "# Decision Tree Regressor Model"
   ]
  },
  {
   "cell_type": "code",
   "execution_count": null,
   "id": "bb5544f1",
   "metadata": {},
   "outputs": [],
   "source": [
    "dt_model = DecisionTreeRegressor()"
   ]
  },
  {
   "cell_type": "code",
   "execution_count": null,
   "id": "8e79dcc0",
   "metadata": {},
   "outputs": [],
   "source": []
  },
  {
   "cell_type": "code",
   "execution_count": null,
   "id": "e4403b28",
   "metadata": {},
   "outputs": [],
   "source": []
  },
  {
   "cell_type": "code",
   "execution_count": null,
   "id": "0c56e49a",
   "metadata": {},
   "outputs": [],
   "source": []
  },
  {
   "cell_type": "code",
   "execution_count": null,
   "id": "bbefb7b7",
   "metadata": {},
   "outputs": [],
   "source": []
  },
  {
   "cell_type": "markdown",
   "id": "fe589881",
   "metadata": {},
   "source": [
    "# 3. applying PCA"
   ]
  },
  {
   "cell_type": "code",
   "execution_count": null,
   "id": "bc46655e",
   "metadata": {},
   "outputs": [],
   "source": [
    "# from sklearn.preprocessing import MinMaxScaler\n",
    "# from sklearn.decomposition import PCA"
   ]
  },
  {
   "cell_type": "code",
   "execution_count": null,
   "id": "0ec0f991",
   "metadata": {},
   "outputs": [],
   "source": [
    "# scaler = MinMaxScaler()\n",
    "# scaled_features = scaler.fit_transform(df)"
   ]
  },
  {
   "cell_type": "code",
   "execution_count": null,
   "id": "7a8c0000",
   "metadata": {},
   "outputs": [],
   "source": [
    "# # Retain 95% of the variance\n",
    "# pca = PCA(n_components=0.95)  \n",
    "# df_pca_features = pca.fit_transform(scaled_features)"
   ]
  },
  {
   "cell_type": "code",
   "execution_count": null,
   "id": "690acec9",
   "metadata": {},
   "outputs": [],
   "source": [
    "#df_pca_features"
   ]
  },
  {
   "cell_type": "code",
   "execution_count": null,
   "id": "134339a9",
   "metadata": {},
   "outputs": [],
   "source": [
    "# df_pca_features.shape"
   ]
  },
  {
   "cell_type": "code",
   "execution_count": null,
   "id": "439811f2",
   "metadata": {},
   "outputs": [],
   "source": [
    "# cleaned_df = df_pca_features"
   ]
  },
  {
   "cell_type": "code",
   "execution_count": null,
   "id": "4e82cce6",
   "metadata": {},
   "outputs": [],
   "source": [
    "# df.to_csv(\"cleaned_df.csv\",index=False)"
   ]
  },
  {
   "cell_type": "code",
   "execution_count": null,
   "id": "9b293358",
   "metadata": {},
   "outputs": [],
   "source": [
    "# cleaned_df.shape"
   ]
  },
  {
   "cell_type": "code",
   "execution_count": null,
   "id": "925e6c42",
   "metadata": {},
   "outputs": [],
   "source": [
    "# cleaned_df = pd.DataFrame(cleaned_df)"
   ]
  },
  {
   "cell_type": "code",
   "execution_count": null,
   "id": "f3bcabc1",
   "metadata": {},
   "outputs": [],
   "source": [
    "# cleaned_df.info"
   ]
  },
  {
   "cell_type": "code",
   "execution_count": null,
   "id": "fd78fc9a",
   "metadata": {},
   "outputs": [],
   "source": [
    "# cleaned_df.head(5)"
   ]
  },
  {
   "cell_type": "code",
   "execution_count": null,
   "id": "e3d8a6a7",
   "metadata": {},
   "outputs": [],
   "source": []
  }
 ],
 "metadata": {
  "kernelspec": {
   "display_name": "Python 3 (ipykernel)",
   "language": "python",
   "name": "python3"
  },
  "language_info": {
   "codemirror_mode": {
    "name": "ipython",
    "version": 3
   },
   "file_extension": ".py",
   "mimetype": "text/x-python",
   "name": "python",
   "nbconvert_exporter": "python",
   "pygments_lexer": "ipython3",
   "version": "3.11.5"
  }
 },
 "nbformat": 4,
 "nbformat_minor": 5
}
