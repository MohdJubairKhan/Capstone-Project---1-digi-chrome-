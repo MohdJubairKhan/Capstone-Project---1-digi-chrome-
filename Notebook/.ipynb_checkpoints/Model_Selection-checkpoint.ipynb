{
 "cells": [
  {
   "cell_type": "markdown",
   "id": "ef425341",
   "metadata": {},
   "source": [
    "# Import_Libraries"
   ]
  },
  {
   "cell_type": "code",
   "execution_count": 1,
   "id": "f51348b2",
   "metadata": {},
   "outputs": [],
   "source": [
    "import pandas as pd\n",
    "import numpy as np\n",
    "from sklearn.model_selection import train_test_split, cross_val_score\n",
    "from sklearn.linear_model import LinearRegression\n",
    "from sklearn.tree import DecisionTreeRegressor\n",
    "from sklearn.svm import SVC\n",
    "from sklearn.ensemble import RandomForestRegressor\n",
    "from sklearn.ensemble import GradientBoostingRegressor\n",
    "from sklearn.metrics import mean_squared_error, r2_score,mean_absolute_error\n",
    "import matplotlib.pyplot as plt\n",
    "import seaborn as sns\n",
    "import warnings\n",
    "warnings.filterwarnings(\"ignore\")"
   ]
  },
  {
   "cell_type": "markdown",
   "id": "ede1849a",
   "metadata": {},
   "source": [
    "# Loading The Data:"
   ]
  },
  {
   "cell_type": "code",
   "execution_count": 3,
   "id": "53377e87",
   "metadata": {},
   "outputs": [],
   "source": [
    "df = pd.read_csv(r\"C:\\Users\\zubai\\Desktop\\Data_Science_Jupyter\\Project_1_digi_crome_capstone\\Data\\features_Property_data.csv\")"
   ]
  },
  {
   "cell_type": "code",
   "execution_count": 5,
   "id": "849bf571",
   "metadata": {},
   "outputs": [
    {
     "data": {
      "text/html": [
       "<div>\n",
       "<style scoped>\n",
       "    .dataframe tbody tr th:only-of-type {\n",
       "        vertical-align: middle;\n",
       "    }\n",
       "\n",
       "    .dataframe tbody tr th {\n",
       "        vertical-align: top;\n",
       "    }\n",
       "\n",
       "    .dataframe thead th {\n",
       "        text-align: right;\n",
       "    }\n",
       "</style>\n",
       "<table border=\"1\" class=\"dataframe\">\n",
       "  <thead>\n",
       "    <tr style=\"text-align: right;\">\n",
       "      <th></th>\n",
       "      <th>PropertyID</th>\n",
       "      <th>PropertyClass</th>\n",
       "      <th>PropertyFrontage</th>\n",
       "      <th>PropertySize</th>\n",
       "      <th>OverallQual</th>\n",
       "      <th>OverallCond</th>\n",
       "      <th>YearBuilt</th>\n",
       "      <th>YearRemodAdd</th>\n",
       "      <th>ExteriorCladdingArea</th>\n",
       "      <th>BsmntFinSty1</th>\n",
       "      <th>...</th>\n",
       "      <th>SaleCondn_Alloca</th>\n",
       "      <th>SaleCondn_Family</th>\n",
       "      <th>SaleCondn_Normal</th>\n",
       "      <th>SaleCondn_Partial</th>\n",
       "      <th>AgeAtSale</th>\n",
       "      <th>YearsSinceRemodel</th>\n",
       "      <th>TotalSqFootage</th>\n",
       "      <th>TotalBathrooms</th>\n",
       "      <th>QualityScore</th>\n",
       "      <th>GrLivArea_OverallQual</th>\n",
       "    </tr>\n",
       "  </thead>\n",
       "  <tbody>\n",
       "    <tr>\n",
       "      <th>0</th>\n",
       "      <td>1</td>\n",
       "      <td>60</td>\n",
       "      <td>65</td>\n",
       "      <td>8450</td>\n",
       "      <td>7</td>\n",
       "      <td>5</td>\n",
       "      <td>2003</td>\n",
       "      <td>2003</td>\n",
       "      <td>196</td>\n",
       "      <td>706</td>\n",
       "      <td>...</td>\n",
       "      <td>0</td>\n",
       "      <td>0</td>\n",
       "      <td>1</td>\n",
       "      <td>0</td>\n",
       "      <td>5</td>\n",
       "      <td>5</td>\n",
       "      <td>1860</td>\n",
       "      <td>3.5</td>\n",
       "      <td>35</td>\n",
       "      <td>11970</td>\n",
       "    </tr>\n",
       "    <tr>\n",
       "      <th>1</th>\n",
       "      <td>2</td>\n",
       "      <td>20</td>\n",
       "      <td>80</td>\n",
       "      <td>9600</td>\n",
       "      <td>6</td>\n",
       "      <td>8</td>\n",
       "      <td>1976</td>\n",
       "      <td>1976</td>\n",
       "      <td>0</td>\n",
       "      <td>978</td>\n",
       "      <td>...</td>\n",
       "      <td>0</td>\n",
       "      <td>0</td>\n",
       "      <td>1</td>\n",
       "      <td>0</td>\n",
       "      <td>31</td>\n",
       "      <td>31</td>\n",
       "      <td>1546</td>\n",
       "      <td>2.5</td>\n",
       "      <td>48</td>\n",
       "      <td>7572</td>\n",
       "    </tr>\n",
       "    <tr>\n",
       "      <th>2</th>\n",
       "      <td>3</td>\n",
       "      <td>60</td>\n",
       "      <td>68</td>\n",
       "      <td>11250</td>\n",
       "      <td>7</td>\n",
       "      <td>5</td>\n",
       "      <td>2001</td>\n",
       "      <td>2002</td>\n",
       "      <td>162</td>\n",
       "      <td>486</td>\n",
       "      <td>...</td>\n",
       "      <td>0</td>\n",
       "      <td>0</td>\n",
       "      <td>1</td>\n",
       "      <td>0</td>\n",
       "      <td>7</td>\n",
       "      <td>6</td>\n",
       "      <td>2220</td>\n",
       "      <td>3.5</td>\n",
       "      <td>35</td>\n",
       "      <td>12502</td>\n",
       "    </tr>\n",
       "    <tr>\n",
       "      <th>3</th>\n",
       "      <td>4</td>\n",
       "      <td>70</td>\n",
       "      <td>60</td>\n",
       "      <td>9550</td>\n",
       "      <td>7</td>\n",
       "      <td>5</td>\n",
       "      <td>1915</td>\n",
       "      <td>1970</td>\n",
       "      <td>0</td>\n",
       "      <td>216</td>\n",
       "      <td>...</td>\n",
       "      <td>0</td>\n",
       "      <td>0</td>\n",
       "      <td>0</td>\n",
       "      <td>0</td>\n",
       "      <td>91</td>\n",
       "      <td>36</td>\n",
       "      <td>2257</td>\n",
       "      <td>2.0</td>\n",
       "      <td>35</td>\n",
       "      <td>12019</td>\n",
       "    </tr>\n",
       "    <tr>\n",
       "      <th>4</th>\n",
       "      <td>5</td>\n",
       "      <td>60</td>\n",
       "      <td>84</td>\n",
       "      <td>14260</td>\n",
       "      <td>8</td>\n",
       "      <td>5</td>\n",
       "      <td>2000</td>\n",
       "      <td>2000</td>\n",
       "      <td>350</td>\n",
       "      <td>655</td>\n",
       "      <td>...</td>\n",
       "      <td>0</td>\n",
       "      <td>0</td>\n",
       "      <td>1</td>\n",
       "      <td>0</td>\n",
       "      <td>8</td>\n",
       "      <td>8</td>\n",
       "      <td>2688</td>\n",
       "      <td>3.5</td>\n",
       "      <td>40</td>\n",
       "      <td>17584</td>\n",
       "    </tr>\n",
       "  </tbody>\n",
       "</table>\n",
       "<p>5 rows × 268 columns</p>\n",
       "</div>"
      ],
      "text/plain": [
       "   PropertyID  PropertyClass  PropertyFrontage  PropertySize  OverallQual  \\\n",
       "0           1             60                65          8450            7   \n",
       "1           2             20                80          9600            6   \n",
       "2           3             60                68         11250            7   \n",
       "3           4             70                60          9550            7   \n",
       "4           5             60                84         14260            8   \n",
       "\n",
       "   OverallCond  YearBuilt  YearRemodAdd  ExteriorCladdingArea  BsmntFinSty1  \\\n",
       "0            5       2003          2003                   196           706   \n",
       "1            8       1976          1976                     0           978   \n",
       "2            5       2001          2002                   162           486   \n",
       "3            5       1915          1970                     0           216   \n",
       "4            5       2000          2000                   350           655   \n",
       "\n",
       "   ...  SaleCondn_Alloca  SaleCondn_Family  SaleCondn_Normal  \\\n",
       "0  ...                 0                 0                 1   \n",
       "1  ...                 0                 0                 1   \n",
       "2  ...                 0                 0                 1   \n",
       "3  ...                 0                 0                 0   \n",
       "4  ...                 0                 0                 1   \n",
       "\n",
       "   SaleCondn_Partial  AgeAtSale  YearsSinceRemodel  TotalSqFootage  \\\n",
       "0                  0          5                  5            1860   \n",
       "1                  0         31                 31            1546   \n",
       "2                  0          7                  6            2220   \n",
       "3                  0         91                 36            2257   \n",
       "4                  0          8                  8            2688   \n",
       "\n",
       "   TotalBathrooms  QualityScore  GrLivArea_OverallQual  \n",
       "0             3.5            35                  11970  \n",
       "1             2.5            48                   7572  \n",
       "2             3.5            35                  12502  \n",
       "3             2.0            35                  12019  \n",
       "4             3.5            40                  17584  \n",
       "\n",
       "[5 rows x 268 columns]"
      ]
     },
     "execution_count": 5,
     "metadata": {},
     "output_type": "execute_result"
    }
   ],
   "source": [
    "df.head(5)"
   ]
  },
  {
   "cell_type": "code",
   "execution_count": 7,
   "id": "0903d535",
   "metadata": {},
   "outputs": [
    {
     "data": {
      "text/plain": [
       "(1430, 268)"
      ]
     },
     "execution_count": 7,
     "metadata": {},
     "output_type": "execute_result"
    }
   ],
   "source": [
    "df.shape"
   ]
  },
  {
   "cell_type": "code",
   "execution_count": 9,
   "id": "cb4f3a5f",
   "metadata": {},
   "outputs": [
    {
     "name": "stdout",
     "output_type": "stream",
     "text": [
      "<class 'pandas.core.frame.DataFrame'>\n",
      "RangeIndex: 1430 entries, 0 to 1429\n",
      "Columns: 268 entries, PropertyID to GrLivArea_OverallQual\n",
      "dtypes: float64(1), int64(267)\n",
      "memory usage: 2.9 MB\n"
     ]
    }
   ],
   "source": [
    "df.info()"
   ]
  },
  {
   "cell_type": "markdown",
   "id": "3f9130b3",
   "metadata": {},
   "source": [
    "# Model Selection"
   ]
  },
  {
   "cell_type": "code",
   "execution_count": 11,
   "id": "0bf052a4",
   "metadata": {},
   "outputs": [],
   "source": [
    "X=df.drop('PropPrice',axis=1)\n",
    "Y=df [['PropPrice']]"
   ]
  },
  {
   "cell_type": "markdown",
   "id": "ad4d16fb",
   "metadata": {},
   "source": [
    "# Standardize the Features"
   ]
  },
  {
   "cell_type": "code",
   "execution_count": 13,
   "id": "f63f5695",
   "metadata": {},
   "outputs": [],
   "source": [
    "from sklearn.preprocessing import StandardScaler\n",
    "scaler = StandardScaler()\n",
    "X_scaled = scaler.fit_transform(X)"
   ]
  },
  {
   "cell_type": "markdown",
   "id": "ede56659",
   "metadata": {},
   "source": [
    "# Split the Data"
   ]
  },
  {
   "cell_type": "code",
   "execution_count": 15,
   "id": "6a4a09c4",
   "metadata": {},
   "outputs": [],
   "source": [
    "X_train, X_test, Y_train, Y_test = train_test_split(X_scaled, Y, test_size=0.2, random_state=42)"
   ]
  },
  {
   "cell_type": "markdown",
   "id": "1c98f3c0",
   "metadata": {},
   "source": [
    "# Train and Evaluate Models"
   ]
  },
  {
   "cell_type": "markdown",
   "id": "97865ef7",
   "metadata": {},
   "source": [
    "# Random Forest"
   ]
  },
  {
   "cell_type": "code",
   "execution_count": 28,
   "id": "a771e88e",
   "metadata": {},
   "outputs": [],
   "source": [
    "rf_model = RandomForestRegressor()\n",
    "rf_model.fit(X_train, Y_train)\n",
    "rf_y_pred = rf_model.predict(X_test)"
   ]
  },
  {
   "cell_type": "code",
   "execution_count": 29,
   "id": "c42195af",
   "metadata": {},
   "outputs": [
    {
     "name": "stdout",
     "output_type": "stream",
     "text": [
      "Model r2 score: 0.8742118496639018\n"
     ]
    }
   ],
   "source": [
    "score = r2_score(Y_test, rf_y_pred)\n",
    "print(f'Model r2 score: {score}')"
   ]
  },
  {
   "cell_type": "markdown",
   "id": "8d9a92f7",
   "metadata": {},
   "source": [
    "# Gradient Boosting Regressor Model"
   ]
  },
  {
   "cell_type": "code",
   "execution_count": 32,
   "id": "90906a22",
   "metadata": {},
   "outputs": [],
   "source": [
    "gr_model = GradientBoostingRegressor()\n",
    "gr_model.fit(X_train, Y_train)\n",
    "gb_y_pred = gr_model.predict(X_test)"
   ]
  },
  {
   "cell_type": "code",
   "execution_count": 34,
   "id": "5275aec1",
   "metadata": {},
   "outputs": [
    {
     "name": "stdout",
     "output_type": "stream",
     "text": [
      "Model r2 score: 0.884800174361661\n"
     ]
    }
   ],
   "source": [
    "score = r2_score(Y_test, gb_y_pred)\n",
    "print(f'Model r2 score: {score}')"
   ]
  },
  {
   "cell_type": "markdown",
   "id": "d36a08f2",
   "metadata": {},
   "source": [
    "# Split the Data"
   ]
  },
  {
   "cell_type": "code",
   "execution_count": 37,
   "id": "d589ca95",
   "metadata": {},
   "outputs": [],
   "source": [
    "x_train,x_test,y_train,y_test=train_test_split(X_scaled,Y,test_size=0.2,random_state=42)"
   ]
  },
  {
   "cell_type": "markdown",
   "id": "afc78ed0",
   "metadata": {},
   "source": [
    "# Apply PCA:"
   ]
  },
  {
   "cell_type": "code",
   "execution_count": 39,
   "id": "c08ef3a4",
   "metadata": {},
   "outputs": [],
   "source": [
    "from sklearn.decomposition import PCA\n",
    "pca = PCA(n_components=0.95) \n",
    "x_train_pca = pca.fit_transform(x_train)\n",
    "x_test_pca = pca.transform(x_test)"
   ]
  },
  {
   "cell_type": "code",
   "execution_count": 41,
   "id": "d415a103",
   "metadata": {},
   "outputs": [
    {
     "data": {
      "text/plain": [
       "(1144, 160)"
      ]
     },
     "execution_count": 41,
     "metadata": {},
     "output_type": "execute_result"
    }
   ],
   "source": [
    "x_train_pca.shape"
   ]
  },
  {
   "cell_type": "code",
   "execution_count": 43,
   "id": "323f9758",
   "metadata": {},
   "outputs": [
    {
     "data": {
      "text/plain": [
       "(286, 160)"
      ]
     },
     "execution_count": 43,
     "metadata": {},
     "output_type": "execute_result"
    }
   ],
   "source": [
    "x_test_pca.shape"
   ]
  },
  {
   "cell_type": "markdown",
   "id": "8c2ec0db",
   "metadata": {},
   "source": [
    "# After PCA Random Forest"
   ]
  },
  {
   "cell_type": "code",
   "execution_count": 46,
   "id": "8e66fe21",
   "metadata": {},
   "outputs": [],
   "source": [
    "pca_rf_model = RandomForestRegressor()\n",
    "pca_rf_model.fit(x_train_pca, y_train)\n",
    "rf_y_pred3 = pca_rf_model.predict(x_test_pca)"
   ]
  },
  {
   "cell_type": "code",
   "execution_count": 48,
   "id": "fa3fe29e",
   "metadata": {},
   "outputs": [
    {
     "name": "stdout",
     "output_type": "stream",
     "text": [
      "Model r2 score: 0.8622011367733202\n"
     ]
    }
   ],
   "source": [
    "score = r2_score(y_test, rf_y_pred3)\n",
    "print(f'Model r2 score: {score}')"
   ]
  },
  {
   "cell_type": "markdown",
   "id": "49223bed",
   "metadata": {},
   "source": [
    "# After PCA Gradient Boosting Regressor "
   ]
  },
  {
   "cell_type": "code",
   "execution_count": 50,
   "id": "20dc167a",
   "metadata": {},
   "outputs": [],
   "source": [
    "pca_gr_model = GradientBoostingRegressor()\n",
    "pca_gr_model.fit(x_train_pca, y_train)\n",
    "gb_y_pred4 = pca_gr_model.predict(x_test_pca)"
   ]
  },
  {
   "cell_type": "code",
   "execution_count": 51,
   "id": "c1789bdd",
   "metadata": {},
   "outputs": [
    {
     "name": "stdout",
     "output_type": "stream",
     "text": [
      "Model r2 score: 0.8905873026723101\n"
     ]
    }
   ],
   "source": [
    "score = r2_score(y_test, gb_y_pred4)\n",
    "print(f'Model r2 score: {score}')"
   ]
  },
  {
   "cell_type": "markdown",
   "id": "6ca8268c",
   "metadata": {},
   "source": [
    "# Evaluate each model using MAE and RMSE."
   ]
  },
  {
   "cell_type": "code",
   "execution_count": 56,
   "id": "766a55a8",
   "metadata": {},
   "outputs": [
    {
     "name": "stdout",
     "output_type": "stream",
     "text": [
      "Random Forest - MAE: 16224.092972027971, RMSE: 24757.428375804287\n"
     ]
    }
   ],
   "source": [
    "#Random Forest Metrics\n",
    "mae_forest = mean_absolute_error(y_test, rf_y_pred3)\n",
    "rmse_forest = np.sqrt(mean_squared_error(y_test, rf_y_pred3))\n",
    "print(f\"Random Forest - MAE: {mae_forest}, RMSE: {rmse_forest}\")"
   ]
  },
  {
   "cell_type": "code",
   "execution_count": 58,
   "id": "69ab3505",
   "metadata": {},
   "outputs": [
    {
     "name": "stdout",
     "output_type": "stream",
     "text": [
      "Random Forest - MAE: 14682.943832719418, RMSE: 22060.56221268997\n"
     ]
    }
   ],
   "source": [
    "#Gradient Boosting Regressor Metrics\n",
    "mae_gradient = mean_absolute_error(y_test, gb_y_pred4)\n",
    "rmse_gradient = np.sqrt(mean_squared_error(y_test, gb_y_pred4))\n",
    "print(f\"Random Forest - MAE: {mae_gradient}, RMSE: {rmse_gradient}\")"
   ]
  },
  {
   "cell_type": "markdown",
   "id": "fff1e792",
   "metadata": {},
   "source": [
    "# Compare and Select the Best Model"
   ]
  },
  {
   "cell_type": "code",
   "execution_count": 60,
   "id": "021f08f3",
   "metadata": {},
   "outputs": [
    {
     "name": "stdout",
     "output_type": "stream",
     "text": [
      "Model Evaluation Results:\n",
      "Random Forest - MAE: 16224.0930, RMSE: 24757.4284\n",
      "Gradient Boosting - MAE: 14682.9438, RMSE: 22060.5622\n",
      "The best model is: Gradient Boosting\n"
     ]
    }
   ],
   "source": [
    "# Print the metrics for comparison\n",
    "\n",
    "print(\"Model Evaluation Results:\")\n",
    "print(f\"Random Forest - MAE: {mae_forest:.4f}, RMSE: {rmse_forest:.4f}\")\n",
    "print(f\"Gradient Boosting - MAE: {mae_gradient:.4f}, RMSE: {rmse_gradient:.4f}\")\n",
    "\n",
    "\n",
    "# Determine the best model\n",
    "models = {\n",
    "    \"Random Forest\": {\"MAE\": mae_forest, \"RMSE\": rmse_forest},\n",
    "    \"Gradient Boosting\": {\"MAE\": mae_gradient, \"RMSE\": rmse_gradient},\n",
    "}\n",
    "\n",
    "best_model = min(models, key=lambda x: models[x][\"RMSE\"])\n",
    "print(f\"The best model is: {best_model}\")"
   ]
  },
  {
   "cell_type": "markdown",
   "id": "5b92255f",
   "metadata": {},
   "source": [
    "# Conclusion"
   ]
  },
  {
   "cell_type": "markdown",
   "id": "2d8ba9ab",
   "metadata": {},
   "source": [
    "This process allows you to:\n",
    "\n",
    "1. Load and prepare your data.\n",
    "2. Split your data into training and testing sets.\n",
    "3. Train different machine learning models.\n",
    "4. Evaluate their performance using mean squared error (MSE) and R2 score.\n",
    "5. Use cross-validation for more reliable performance estimates.\n",
    "6. Visualize the results to compare actual vs. predicted property prices."
   ]
  },
  {
   "cell_type": "code",
   "execution_count": 66,
   "id": "3f832c14",
   "metadata": {},
   "outputs": [],
   "source": [
    "import pickle\n",
    "import os\n",
    "directory = r'C:\\Users\\zubai\\Desktop\\Data_Science_Jupyter\\Project_1_digi_crome_capstone'\n",
    "filename = os.path.join(directory, 'Gradient_Boosting_Regressor.pkl')\n",
    "# Serialize the model using pickle\n",
    "with open(filename, 'wb') as file:\n",
    "    pickle.dump(gb_y_pred4, file)"
   ]
  }
 ],
 "metadata": {
  "kernelspec": {
   "display_name": "Python 3 (ipykernel)",
   "language": "python",
   "name": "python3"
  },
  "language_info": {
   "codemirror_mode": {
    "name": "ipython",
    "version": 3
   },
   "file_extension": ".py",
   "mimetype": "text/x-python",
   "name": "python",
   "nbconvert_exporter": "python",
   "pygments_lexer": "ipython3",
   "version": "3.12.4"
  }
 },
 "nbformat": 4,
 "nbformat_minor": 5
}
