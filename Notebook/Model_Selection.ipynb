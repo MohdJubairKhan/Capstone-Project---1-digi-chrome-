{
 "cells": [
  {
   "cell_type": "markdown",
   "id": "ef425341",
   "metadata": {},
   "source": [
    "# Import_Libraries"
   ]
  },
  {
   "cell_type": "code",
   "execution_count": 1,
   "id": "f51348b2",
   "metadata": {},
   "outputs": [],
   "source": [
    "import pandas as pd\n",
    "import numpy as np\n",
    "from sklearn.model_selection import train_test_split, cross_val_score\n",
    "from sklearn.linear_model import LinearRegression\n",
    "from sklearn.tree import DecisionTreeRegressor\n",
    "from sklearn.ensemble import RandomForestRegressor\n",
    "from sklearn.ensemble import GradientBoostingRegressor\n",
    "from sklearn.metrics import mean_squared_error, r2_score,mean_absolute_error\n",
    "import matplotlib.pyplot as plt\n",
    "import seaborn as sns\n",
    "import warnings\n",
    "warnings.filterwarnings(\"ignore\")"
   ]
  },
  {
   "cell_type": "markdown",
   "id": "ede1849a",
   "metadata": {},
   "source": [
    "# Loading The Data:"
   ]
  },
  {
   "cell_type": "code",
   "execution_count": 2,
   "id": "53377e87",
   "metadata": {},
   "outputs": [],
   "source": [
    "df = pd.read_csv(r\"C:\\Users\\Hp\\Desktop\\Data_Science_Jupyter\\Project_1_digi_crome_capstone\\Data\\features_Property_data.csv\")"
   ]
  },
  {
   "cell_type": "code",
   "execution_count": 3,
   "id": "849bf571",
   "metadata": {},
   "outputs": [
    {
     "data": {
      "text/html": [
       "<div>\n",
       "<style scoped>\n",
       "    .dataframe tbody tr th:only-of-type {\n",
       "        vertical-align: middle;\n",
       "    }\n",
       "\n",
       "    .dataframe tbody tr th {\n",
       "        vertical-align: top;\n",
       "    }\n",
       "\n",
       "    .dataframe thead th {\n",
       "        text-align: right;\n",
       "    }\n",
       "</style>\n",
       "<table border=\"1\" class=\"dataframe\">\n",
       "  <thead>\n",
       "    <tr style=\"text-align: right;\">\n",
       "      <th></th>\n",
       "      <th>Unnamed: 0</th>\n",
       "      <th>PropertyID</th>\n",
       "      <th>PropertyClass</th>\n",
       "      <th>PropertyFrontage</th>\n",
       "      <th>PropertySize</th>\n",
       "      <th>OverallQual</th>\n",
       "      <th>OverallCond</th>\n",
       "      <th>YearBuilt</th>\n",
       "      <th>YearRemodAdd</th>\n",
       "      <th>ExteriorCladdingArea</th>\n",
       "      <th>...</th>\n",
       "      <th>SaleCondn_Alloca</th>\n",
       "      <th>SaleCondn_Family</th>\n",
       "      <th>SaleCondn_Normal</th>\n",
       "      <th>SaleCondn_Partial</th>\n",
       "      <th>AgeAtSale</th>\n",
       "      <th>YearsSinceRemodel</th>\n",
       "      <th>TotalSqFootage</th>\n",
       "      <th>TotalBathrooms</th>\n",
       "      <th>QualityScore</th>\n",
       "      <th>GrLivArea_OverallQual</th>\n",
       "    </tr>\n",
       "  </thead>\n",
       "  <tbody>\n",
       "    <tr>\n",
       "      <th>0</th>\n",
       "      <td>0</td>\n",
       "      <td>1</td>\n",
       "      <td>60</td>\n",
       "      <td>65</td>\n",
       "      <td>8450</td>\n",
       "      <td>7</td>\n",
       "      <td>5</td>\n",
       "      <td>2003</td>\n",
       "      <td>2003</td>\n",
       "      <td>196</td>\n",
       "      <td>...</td>\n",
       "      <td>False</td>\n",
       "      <td>False</td>\n",
       "      <td>True</td>\n",
       "      <td>False</td>\n",
       "      <td>5</td>\n",
       "      <td>5</td>\n",
       "      <td>1860</td>\n",
       "      <td>3.5</td>\n",
       "      <td>35</td>\n",
       "      <td>11970</td>\n",
       "    </tr>\n",
       "    <tr>\n",
       "      <th>1</th>\n",
       "      <td>1</td>\n",
       "      <td>2</td>\n",
       "      <td>20</td>\n",
       "      <td>80</td>\n",
       "      <td>9600</td>\n",
       "      <td>6</td>\n",
       "      <td>8</td>\n",
       "      <td>1976</td>\n",
       "      <td>1976</td>\n",
       "      <td>0</td>\n",
       "      <td>...</td>\n",
       "      <td>False</td>\n",
       "      <td>False</td>\n",
       "      <td>True</td>\n",
       "      <td>False</td>\n",
       "      <td>31</td>\n",
       "      <td>31</td>\n",
       "      <td>1546</td>\n",
       "      <td>2.5</td>\n",
       "      <td>48</td>\n",
       "      <td>7572</td>\n",
       "    </tr>\n",
       "    <tr>\n",
       "      <th>2</th>\n",
       "      <td>2</td>\n",
       "      <td>3</td>\n",
       "      <td>60</td>\n",
       "      <td>68</td>\n",
       "      <td>11250</td>\n",
       "      <td>7</td>\n",
       "      <td>5</td>\n",
       "      <td>2001</td>\n",
       "      <td>2002</td>\n",
       "      <td>162</td>\n",
       "      <td>...</td>\n",
       "      <td>False</td>\n",
       "      <td>False</td>\n",
       "      <td>True</td>\n",
       "      <td>False</td>\n",
       "      <td>7</td>\n",
       "      <td>6</td>\n",
       "      <td>2220</td>\n",
       "      <td>3.5</td>\n",
       "      <td>35</td>\n",
       "      <td>12502</td>\n",
       "    </tr>\n",
       "    <tr>\n",
       "      <th>3</th>\n",
       "      <td>3</td>\n",
       "      <td>4</td>\n",
       "      <td>70</td>\n",
       "      <td>60</td>\n",
       "      <td>9550</td>\n",
       "      <td>7</td>\n",
       "      <td>5</td>\n",
       "      <td>1915</td>\n",
       "      <td>1970</td>\n",
       "      <td>0</td>\n",
       "      <td>...</td>\n",
       "      <td>False</td>\n",
       "      <td>False</td>\n",
       "      <td>False</td>\n",
       "      <td>False</td>\n",
       "      <td>91</td>\n",
       "      <td>36</td>\n",
       "      <td>2257</td>\n",
       "      <td>2.0</td>\n",
       "      <td>35</td>\n",
       "      <td>12019</td>\n",
       "    </tr>\n",
       "    <tr>\n",
       "      <th>4</th>\n",
       "      <td>4</td>\n",
       "      <td>5</td>\n",
       "      <td>60</td>\n",
       "      <td>84</td>\n",
       "      <td>14260</td>\n",
       "      <td>8</td>\n",
       "      <td>5</td>\n",
       "      <td>2000</td>\n",
       "      <td>2000</td>\n",
       "      <td>350</td>\n",
       "      <td>...</td>\n",
       "      <td>False</td>\n",
       "      <td>False</td>\n",
       "      <td>True</td>\n",
       "      <td>False</td>\n",
       "      <td>8</td>\n",
       "      <td>8</td>\n",
       "      <td>2688</td>\n",
       "      <td>3.5</td>\n",
       "      <td>40</td>\n",
       "      <td>17584</td>\n",
       "    </tr>\n",
       "  </tbody>\n",
       "</table>\n",
       "<p>5 rows × 269 columns</p>\n",
       "</div>"
      ],
      "text/plain": [
       "   Unnamed: 0  PropertyID  PropertyClass  PropertyFrontage  PropertySize  \\\n",
       "0           0           1             60                65          8450   \n",
       "1           1           2             20                80          9600   \n",
       "2           2           3             60                68         11250   \n",
       "3           3           4             70                60          9550   \n",
       "4           4           5             60                84         14260   \n",
       "\n",
       "   OverallQual  OverallCond  YearBuilt  YearRemodAdd  ExteriorCladdingArea  \\\n",
       "0            7            5       2003          2003                   196   \n",
       "1            6            8       1976          1976                     0   \n",
       "2            7            5       2001          2002                   162   \n",
       "3            7            5       1915          1970                     0   \n",
       "4            8            5       2000          2000                   350   \n",
       "\n",
       "   ...  SaleCondn_Alloca  SaleCondn_Family  SaleCondn_Normal  \\\n",
       "0  ...             False             False              True   \n",
       "1  ...             False             False              True   \n",
       "2  ...             False             False              True   \n",
       "3  ...             False             False             False   \n",
       "4  ...             False             False              True   \n",
       "\n",
       "   SaleCondn_Partial  AgeAtSale  YearsSinceRemodel  TotalSqFootage  \\\n",
       "0              False          5                  5            1860   \n",
       "1              False         31                 31            1546   \n",
       "2              False          7                  6            2220   \n",
       "3              False         91                 36            2257   \n",
       "4              False          8                  8            2688   \n",
       "\n",
       "   TotalBathrooms  QualityScore  GrLivArea_OverallQual  \n",
       "0             3.5            35                  11970  \n",
       "1             2.5            48                   7572  \n",
       "2             3.5            35                  12502  \n",
       "3             2.0            35                  12019  \n",
       "4             3.5            40                  17584  \n",
       "\n",
       "[5 rows x 269 columns]"
      ]
     },
     "execution_count": 3,
     "metadata": {},
     "output_type": "execute_result"
    }
   ],
   "source": [
    "df.head(5)"
   ]
  },
  {
   "cell_type": "code",
   "execution_count": 4,
   "id": "0903d535",
   "metadata": {},
   "outputs": [
    {
     "data": {
      "text/plain": [
       "(1398, 269)"
      ]
     },
     "execution_count": 4,
     "metadata": {},
     "output_type": "execute_result"
    }
   ],
   "source": [
    "df.shape"
   ]
  },
  {
   "cell_type": "markdown",
   "id": "3f9130b3",
   "metadata": {},
   "source": [
    "# Model Selection"
   ]
  },
  {
   "cell_type": "code",
   "execution_count": 5,
   "id": "0bf052a4",
   "metadata": {},
   "outputs": [],
   "source": [
    "X=df.drop('PropPrice',axis=1)\n",
    "Y=df [['PropPrice']]"
   ]
  },
  {
   "cell_type": "markdown",
   "id": "ede56659",
   "metadata": {},
   "source": [
    "# Split the Data"
   ]
  },
  {
   "cell_type": "code",
   "execution_count": 6,
   "id": "6a4a09c4",
   "metadata": {},
   "outputs": [],
   "source": [
    "X_train, X_test, Y_train, Y_test = train_test_split(X, Y, test_size=0.3, random_state=42)"
   ]
  },
  {
   "cell_type": "markdown",
   "id": "0b5328f5",
   "metadata": {},
   "source": [
    "# Standard Scaler"
   ]
  },
  {
   "cell_type": "code",
   "execution_count": 7,
   "id": "e2a87b49",
   "metadata": {},
   "outputs": [],
   "source": [
    "from sklearn.preprocessing import StandardScaler"
   ]
  },
  {
   "cell_type": "code",
   "execution_count": 8,
   "id": "7404aedf",
   "metadata": {},
   "outputs": [],
   "source": [
    "scaler = StandardScaler()\n",
    "X_train_scaled=scaler.fit_transform(X_train)\n",
    "X_test_scaled=scaler.transform(X_test)"
   ]
  },
  {
   "cell_type": "markdown",
   "id": "1c98f3c0",
   "metadata": {},
   "source": [
    "# Train and Evaluate Models"
   ]
  },
  {
   "cell_type": "markdown",
   "id": "3d9a057f",
   "metadata": {},
   "source": [
    "# Linear Regression"
   ]
  },
  {
   "cell_type": "code",
   "execution_count": 9,
   "id": "e116b1bd",
   "metadata": {},
   "outputs": [],
   "source": [
    "lr_model = LinearRegression()\n",
    "lr_model.fit(X_train_scaled, Y_train)\n",
    "lr_y_pred = lr_model.predict(X_test_scaled)"
   ]
  },
  {
   "cell_type": "code",
   "execution_count": 10,
   "id": "24f31fc1",
   "metadata": {},
   "outputs": [
    {
     "name": "stdout",
     "output_type": "stream",
     "text": [
      "Model r2 score: 0.7022883151972155\n"
     ]
    }
   ],
   "source": [
    "score = r2_score(Y_test, lr_y_pred)\n",
    "print(f'Model r2 score: {score}')"
   ]
  },
  {
   "cell_type": "markdown",
   "id": "72d108ac",
   "metadata": {},
   "source": [
    "# Decision Tree"
   ]
  },
  {
   "cell_type": "code",
   "execution_count": 11,
   "id": "9a34f502",
   "metadata": {},
   "outputs": [],
   "source": [
    "dt_model = DecisionTreeRegressor(random_state=42)\n",
    "dt_model.fit(X_train_scaled, Y_train)\n",
    "dt_y_pred = dt_model.predict(X_test_scaled)"
   ]
  },
  {
   "cell_type": "code",
   "execution_count": 12,
   "id": "e377d32a",
   "metadata": {},
   "outputs": [
    {
     "name": "stdout",
     "output_type": "stream",
     "text": [
      "Model r2 score: 0.7805370006985088\n"
     ]
    }
   ],
   "source": [
    "score = r2_score(Y_test, dt_y_pred)\n",
    "print(f'Model r2 score: {score}')"
   ]
  },
  {
   "cell_type": "markdown",
   "id": "97865ef7",
   "metadata": {},
   "source": [
    "# Random Forest"
   ]
  },
  {
   "cell_type": "code",
   "execution_count": 13,
   "id": "a771e88e",
   "metadata": {},
   "outputs": [],
   "source": [
    "rf_model = RandomForestRegressor(random_state=42, n_estimators=100)\n",
    "rf_model.fit(X_train_scaled, Y_train)\n",
    "rf_y_pred = rf_model.predict(X_test_scaled)"
   ]
  },
  {
   "cell_type": "code",
   "execution_count": 14,
   "id": "c42195af",
   "metadata": {},
   "outputs": [
    {
     "name": "stdout",
     "output_type": "stream",
     "text": [
      "Model r2 score: 0.8878674078712793\n"
     ]
    }
   ],
   "source": [
    "score = r2_score(Y_test, rf_y_pred)\n",
    "print(f'Model r2 score: {score}')"
   ]
  },
  {
   "cell_type": "markdown",
   "id": "8d9a92f7",
   "metadata": {},
   "source": [
    "# Gradient Boosting Regressor Model"
   ]
  },
  {
   "cell_type": "code",
   "execution_count": 15,
   "id": "90906a22",
   "metadata": {},
   "outputs": [],
   "source": [
    "gr_model = GradientBoostingRegressor()\n",
    "gr_model.fit(X_train_scaled, Y_train)\n",
    "gb_y_pred = gr_model.predict(X_test_scaled)"
   ]
  },
  {
   "cell_type": "code",
   "execution_count": 16,
   "id": "5275aec1",
   "metadata": {},
   "outputs": [
    {
     "name": "stdout",
     "output_type": "stream",
     "text": [
      "Model r2 score: 0.8873736336331552\n"
     ]
    }
   ],
   "source": [
    "score = r2_score(Y_test, gb_y_pred)\n",
    "print(f'Model r2 score: {score}')"
   ]
  },
  {
   "cell_type": "markdown",
   "id": "2fb1fa0c",
   "metadata": {},
   "source": [
    "# applying PCA"
   ]
  },
  {
   "cell_type": "code",
   "execution_count": 17,
   "id": "a97a070e",
   "metadata": {},
   "outputs": [],
   "source": [
    "from sklearn.preprocessing import MinMaxScaler\n",
    "from sklearn.decomposition import PCA"
   ]
  },
  {
   "cell_type": "code",
   "execution_count": 18,
   "id": "99ea3114",
   "metadata": {},
   "outputs": [],
   "source": [
    "scaler = MinMaxScaler()\n",
    "scaled_features = scaler.fit_transform(df)"
   ]
  },
  {
   "cell_type": "code",
   "execution_count": 19,
   "id": "d3c19b11",
   "metadata": {},
   "outputs": [],
   "source": [
    "# Retain 95% of the variance\n",
    "pca = PCA(n_components=0.95)  \n",
    "df_pca = pca.fit_transform(scaled_features)"
   ]
  },
  {
   "cell_type": "code",
   "execution_count": 20,
   "id": "a0ce5b1e",
   "metadata": {},
   "outputs": [
    {
     "data": {
      "text/plain": [
       "array([[ 2.22954489,  0.25459949,  0.25501157, ...,  0.028103  ,\n",
       "         0.06183016,  0.07327129],\n",
       "       [-0.35252021, -0.94613864,  0.08574419, ..., -0.35951464,\n",
       "        -0.12030865,  0.01237044],\n",
       "       [ 2.56133419, -0.30544483,  0.8120066 , ..., -0.0464842 ,\n",
       "         0.07290669,  0.09160887],\n",
       "       ...,\n",
       "       [ 0.46852498,  0.10907862,  0.76817361, ...,  0.17540635,\n",
       "        -0.14329802,  0.15848232],\n",
       "       [-0.92982836, -0.68459857, -1.09227597, ...,  0.02850718,\n",
       "        -0.08606299, -0.05980337],\n",
       "       [-0.86950904, -0.77671794, -0.3753084 , ..., -0.06089222,\n",
       "        -0.14555083, -0.18877935]])"
      ]
     },
     "execution_count": 20,
     "metadata": {},
     "output_type": "execute_result"
    }
   ],
   "source": [
    "df_pca"
   ]
  },
  {
   "cell_type": "code",
   "execution_count": 21,
   "id": "24a21efd",
   "metadata": {},
   "outputs": [
    {
     "data": {
      "text/plain": [
       "(1398, 99)"
      ]
     },
     "execution_count": 21,
     "metadata": {},
     "output_type": "execute_result"
    }
   ],
   "source": [
    "df_pca.shape"
   ]
  },
  {
   "cell_type": "code",
   "execution_count": 22,
   "id": "d589ca95",
   "metadata": {},
   "outputs": [],
   "source": [
    "x_train,x_test,y_train,y_test=train_test_split(df_pca,Y,test_size=0.3,random_state=42)"
   ]
  },
  {
   "cell_type": "markdown",
   "id": "506130ec",
   "metadata": {},
   "source": [
    "# After PCA Standard Scaler"
   ]
  },
  {
   "cell_type": "code",
   "execution_count": 23,
   "id": "59b57990",
   "metadata": {},
   "outputs": [],
   "source": [
    "scaler = StandardScaler()\n",
    "x_train_scaled=scaler.fit_transform(x_train)\n",
    "x_test_scaled=scaler.transform(x_test)"
   ]
  },
  {
   "cell_type": "markdown",
   "id": "ed5fa144",
   "metadata": {},
   "source": [
    "# After PCA Linear Regression"
   ]
  },
  {
   "cell_type": "code",
   "execution_count": 24,
   "id": "b0d33356",
   "metadata": {},
   "outputs": [],
   "source": [
    "pca_lr_model = LinearRegression()\n",
    "pca_lr_model.fit(x_train_scaled, y_train)\n",
    "lr_y_pred1 = pca_lr_model.predict(x_test_scaled)"
   ]
  },
  {
   "cell_type": "code",
   "execution_count": 25,
   "id": "eb4d9893",
   "metadata": {},
   "outputs": [
    {
     "name": "stdout",
     "output_type": "stream",
     "text": [
      "Model r2 score: 0.8789528496823249\n"
     ]
    }
   ],
   "source": [
    "score = r2_score(y_test, lr_y_pred1)\n",
    "print(f'Model r2 score: {score}')"
   ]
  },
  {
   "cell_type": "markdown",
   "id": "a68c3298",
   "metadata": {},
   "source": [
    "# After PCA Decision Tree"
   ]
  },
  {
   "cell_type": "code",
   "execution_count": 26,
   "id": "191a442a",
   "metadata": {},
   "outputs": [],
   "source": [
    "pca_dt_model = DecisionTreeRegressor(random_state=42)\n",
    "pca_dt_model.fit(x_train_scaled, y_train)\n",
    "dt_y_pred2 = pca_dt_model.predict(x_test_scaled)"
   ]
  },
  {
   "cell_type": "code",
   "execution_count": 27,
   "id": "ba807440",
   "metadata": {},
   "outputs": [
    {
     "name": "stdout",
     "output_type": "stream",
     "text": [
      "Model r2 score: 0.5334897706491102\n"
     ]
    }
   ],
   "source": [
    "score = r2_score(y_test, dt_y_pred2)\n",
    "print(f'Model r2 score: {score}')"
   ]
  },
  {
   "cell_type": "markdown",
   "id": "8c2ec0db",
   "metadata": {},
   "source": [
    "# After PCA Random Forest"
   ]
  },
  {
   "cell_type": "code",
   "execution_count": 28,
   "id": "8e66fe21",
   "metadata": {},
   "outputs": [],
   "source": [
    "pca_rf_model = RandomForestRegressor(random_state=42, n_estimators=100)\n",
    "pca_rf_model.fit(x_train_scaled, y_train)\n",
    "rf_y_pred3 = pca_rf_model.predict(x_test_scaled)"
   ]
  },
  {
   "cell_type": "code",
   "execution_count": 29,
   "id": "fa3fe29e",
   "metadata": {},
   "outputs": [
    {
     "name": "stdout",
     "output_type": "stream",
     "text": [
      "Model r2 score: 0.7705193516384887\n"
     ]
    }
   ],
   "source": [
    "score = r2_score(y_test, rf_y_pred3)\n",
    "print(f'Model r2 score: {score}')"
   ]
  },
  {
   "cell_type": "markdown",
   "id": "49223bed",
   "metadata": {},
   "source": [
    "# After PCA Gradient Boosting Regressor "
   ]
  },
  {
   "cell_type": "code",
   "execution_count": 30,
   "id": "20dc167a",
   "metadata": {},
   "outputs": [],
   "source": [
    "pca_gr_model = GradientBoostingRegressor()\n",
    "pca_gr_model.fit(x_train_scaled, y_train)\n",
    "gb_y_pred4 = pca_gr_model.predict(x_test_scaled)"
   ]
  },
  {
   "cell_type": "code",
   "execution_count": 31,
   "id": "c1789bdd",
   "metadata": {},
   "outputs": [
    {
     "name": "stdout",
     "output_type": "stream",
     "text": [
      "Model r2 score: 0.8226519646310309\n"
     ]
    }
   ],
   "source": [
    "score = r2_score(y_test, gb_y_pred4)\n",
    "print(f'Model r2 score: {score}')"
   ]
  },
  {
   "cell_type": "markdown",
   "id": "bb1ce4fa",
   "metadata": {},
   "source": [
    "# Visualize Model Performance"
   ]
  },
  {
   "cell_type": "code",
   "execution_count": 32,
   "id": "c1a8fa36",
   "metadata": {},
   "outputs": [
    {
     "data": {
      "image/png": "[encoded data removed]",
      "text/plain": [
       "<Figure size 1000x600 with 1 Axes>"
      ]
     },
     "metadata": {},
     "output_type": "display_data"
    }
   ],
   "source": [
    "plt.figure(figsize=(10, 6))\n",
    "\n",
    "plt.scatter(y_test, lr_y_pred1, label='Linear Regression', alpha=0.5)\n",
    "plt.scatter(y_test, gb_y_pred4, label='Gradient Boosting Regressor', alpha=0.5)\n",
    "plt.scatter(y_test, rf_y_pred3, label='Random Forest', alpha=0.5)\n",
    "\n",
    "plt.plot([Y.min(), Y.max()], [Y.min(), Y.max()], '--k')\n",
    "plt.xlabel('Actual')\n",
    "plt.ylabel('Predicted')\n",
    "plt.title('Predicted vs Actual Property Prices')\n",
    "plt.legend()\n",
    "plt.show()"
   ]
  },
  {
   "cell_type": "markdown",
   "id": "6ca8268c",
   "metadata": {},
   "source": [
    "# Evaluate each model using MAE and RMSE."
   ]
  },
  {
   "cell_type": "code",
   "execution_count": 33,
   "id": "01b3aa37",
   "metadata": {},
   "outputs": [
    {
     "name": "stdout",
     "output_type": "stream",
     "text": [
      "Linear Regression - MAE: 13783.4475552918, RMSE: 22858.255509347036\n"
     ]
    }
   ],
   "source": [
    "#Linear Regression Metrics\n",
    "mae_linear = mean_absolute_error(y_test, lr_y_pred1)\n",
    "rmse_linear = np.sqrt(mean_squared_error(y_test, lr_y_pred1))\n",
    "print(f\"Linear Regression - MAE: {mae_linear}, RMSE: {rmse_linear}\")"
   ]
  },
  {
   "cell_type": "code",
   "execution_count": 34,
   "id": "766a55a8",
   "metadata": {},
   "outputs": [
    {
     "name": "stdout",
     "output_type": "stream",
     "text": [
      "Random Forest - MAE: 21842.22792857143, RMSE: 31473.05003518205\n"
     ]
    }
   ],
   "source": [
    "#Random Forest Metrics\n",
    "mae_forest = mean_absolute_error(y_test, rf_y_pred3)\n",
    "rmse_forest = np.sqrt(mean_squared_error(y_test, rf_y_pred3))\n",
    "print(f\"Random Forest - MAE: {mae_forest}, RMSE: {rmse_forest}\")"
   ]
  },
  {
   "cell_type": "code",
   "execution_count": 35,
   "id": "69ab3505",
   "metadata": {},
   "outputs": [
    {
     "name": "stdout",
     "output_type": "stream",
     "text": [
      "Random Forest - MAE: 19815.468931849897, RMSE: 27668.07784804604\n"
     ]
    }
   ],
   "source": [
    "#Gradient Boosting Regressor Metrics\n",
    "mae_gradient = mean_absolute_error(y_test, gb_y_pred4)\n",
    "rmse_gradient = np.sqrt(mean_squared_error(y_test, gb_y_pred4))\n",
    "print(f\"Random Forest - MAE: {mae_gradient}, RMSE: {rmse_gradient}\")"
   ]
  },
  {
   "cell_type": "markdown",
   "id": "fff1e792",
   "metadata": {},
   "source": [
    "# Compare and Select the Best Model"
   ]
  },
  {
   "cell_type": "code",
   "execution_count": 36,
   "id": "021f08f3",
   "metadata": {},
   "outputs": [
    {
     "name": "stdout",
     "output_type": "stream",
     "text": [
      "Model Evaluation Results:\n",
      "Linear Regression - MAE: 13783.4476, RMSE: 22858.2555\n",
      "Random Forest - MAE: 21842.2279, RMSE: 31473.0500\n",
      "Gradient Boosting - MAE: 19815.4689, RMSE: 27668.0778\n",
      "The best model is: Linear Regression\n"
     ]
    }
   ],
   "source": [
    "# Print the metrics for comparison\n",
    "\n",
    "print(\"Model Evaluation Results:\")\n",
    "print(f\"Linear Regression - MAE: {mae_linear:.4f}, RMSE: {rmse_linear:.4f}\")\n",
    "print(f\"Random Forest - MAE: {mae_forest:.4f}, RMSE: {rmse_forest:.4f}\")\n",
    "print(f\"Gradient Boosting - MAE: {mae_gradient:.4f}, RMSE: {rmse_gradient:.4f}\")\n",
    "\n",
    "# Determine the best model\n",
    "models = {\n",
    "    \"Linear Regression\": {\"MAE\": mae_linear, \"RMSE\": rmse_linear},\n",
    "    \"Random Forest\": {\"MAE\": mae_forest, \"RMSE\": rmse_forest},\n",
    "    \"Gradient Boosting\": {\"MAE\": mae_gradient, \"RMSE\": rmse_gradient}\n",
    "}\n",
    "\n",
    "best_model = min(models, key=lambda x: models[x][\"RMSE\"])\n",
    "print(f\"The best model is: {best_model}\")"
   ]
  },
  {
   "cell_type": "markdown",
   "id": "5b92255f",
   "metadata": {},
   "source": [
    "# Conclusion"
   ]
  },
  {
   "cell_type": "markdown",
   "id": "2d8ba9ab",
   "metadata": {},
   "source": [
    "This process allows you to:\n",
    "\n",
    "1. Load and prepare your data.\n",
    "2. Split your data into training and testing sets.\n",
    "3. Train different machine learning models.\n",
    "4. Evaluate their performance using mean squared error (MSE) and R2 score.\n",
    "5. Use cross-validation for more reliable performance estimates.\n",
    "6. Visualize the results to compare actual vs. predicted property prices."
   ]
  }
 ],
 "metadata": {
  "kernelspec": {
   "display_name": "Python 3 (ipykernel)",
   "language": "python",
   "name": "python3"
  },
  "language_info": {
   "codemirror_mode": {
    "name": "ipython",
    "version": 3
   },
   "file_extension": ".py",
   "mimetype": "text/x-python",
   "name": "python",
   "nbconvert_exporter": "python",
   "pygments_lexer": "ipython3",
   "version": "3.11.5"
  }
 },
 "nbformat": 4,
 "nbformat_minor": 5
}
